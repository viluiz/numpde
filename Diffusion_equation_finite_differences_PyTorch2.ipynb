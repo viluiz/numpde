{
 "cells": [
  {
   "cell_type": "code",
   "execution_count": 1,
   "id": "81b8c224",
   "metadata": {},
   "outputs": [],
   "source": [
    "import matplotlib.pyplot as plt\n",
    "import torch\n",
    "import torch.nn as nn\n",
    "import numpy as np\n",
    "import time"
   ]
  },
  {
   "cell_type": "code",
   "execution_count": 2,
   "id": "451e7f23",
   "metadata": {},
   "outputs": [
    {
     "name": "stdout",
     "output_type": "stream",
     "text": [
      "torch.cuda.is_available:\t True\n",
      "torch.cuda.device_count:\t 1\n",
      "torch.cuda.current_device:\t 0\n",
      "torch.cuda.device:\t\t <torch.cuda.device object at 0x7fa8a46f5e10>\n",
      "torch.cuda.get_device_name:\t Quadro RTX 4000\n",
      "\n",
      "Cuda installed! Running on GPU 0 Quadro RTX 4000!\n"
     ]
    }
   ],
   "source": [
    "print('torch.cuda.is_available:\\t',torch.cuda.is_available())\n",
    "print('torch.cuda.device_count:\\t',torch.cuda.device_count())\n",
    "print('torch.cuda.current_device:\\t',torch.cuda.current_device())\n",
    "print('torch.cuda.device:\\t\\t',torch.cuda.device(0))\n",
    "print('torch.cuda.get_device_name:\\t',torch.cuda.get_device_name(0))\n",
    "print()\n",
    "\n",
    "def set_device(device=\"cpu\", idx=0):\n",
    "    if device != \"cpu\":\n",
    "        if torch.cuda.device_count() > idx and torch.cuda.is_available():\n",
    "            print(\"Cuda installed! Running on GPU {} {}!\".format(idx, torch.cuda.get_device_name(idx)))\n",
    "            device=\"cuda:{}\".format(idx)\n",
    "        elif torch.cuda.device_count() > 0 and torch.cuda.is_available():\n",
    "            print(\"Cuda installed but only {} GPU(s) available! Running on GPU 0 {}!\".format(torch.cuda.device_count(), torch.cuda.get_device_name()))\n",
    "            device=\"cuda:0\"\n",
    "        else:\n",
    "            device=\"cpu\"\n",
    "            print(\"No GPU available! Running on CPU\")\n",
    "    else:\n",
    "        print('Running on {}'.format(device))\n",
    "    return device\n",
    "\n",
    "device = set_device(\"gpu\")"
   ]
  },
  {
   "cell_type": "code",
   "execution_count": 3,
   "id": "0a8003f4",
   "metadata": {},
   "outputs": [],
   "source": [
    "# Gauss-Seidel iterative solution of Ax=b\n",
    "def gauss_seidel(A, b, x0, tolerance=1e-6, max_iterations=10000):\n",
    "    \"\"\"\n",
    "    Solves a linear system of equations using the Gauss-Seidel method.\n",
    "    \n",
    "    Parameters\n",
    "    ----------\n",
    "    A (numpy.ndarray): Coefficient matrix.\n",
    "    b (numpy.ndarray): Right-hand side vector.\n",
    "    x0 (numpy.ndarray): Initial guess for the solution vector.\n",
    "    tol (float): Tolerance for convergence.\n",
    "    max_iter (int): Maximum number of iterations.\n",
    "    \n",
    "    Returns\n",
    "    ----------\n",
    "    x (numpy.ndarray): Solution vector.\n",
    "    \"\"\"\n",
    "    x = x0.clone().detach()\n",
    "    x_old = x0.clone().detach()\n",
    "    for k in range(max_iterations):\n",
    "        #Loop over rows\n",
    "        for i in range(A.shape[0]):\n",
    "            x[i] = (b[i] - torch.matmul(A[i,:i], x[:i]) - torch.matmul(A[i,(i+1):], x_old[(i+1):])) / A[i ,i]\n",
    "        #Stop condition \n",
    "        error = torch.max(torch.abs(x - x_old))\n",
    "        if  error < tolerance:\n",
    "            print(f'The L infinity norm in iteration {k+1} is: {error}') \n",
    "            break     \n",
    "        x_old[:] = x \n",
    "    else:\n",
    "        print(f'***WARNING*** Max number of iteration reached {k+1}, L infinity norm is: {error}')        \n",
    "    return x\n",
    "\n",
    "def jacobi(A, b, x0, tolerance=1e-6, max_iterations=50000):\n",
    "    \"\"\"\n",
    "    Solves a linear system of equations using the Jacobi method.\n",
    "    \n",
    "    Parameters:\n",
    "    A (numpy.ndarray): Coefficient matrix.\n",
    "    b (numpy.ndarray): Right-hand side vector.\n",
    "    x0 (numpy.ndarray): Initial guess for the solution vector.\n",
    "    tolerance (float): Tolerance for convergence.\n",
    "    max_iterations (int): Maximum number of iterations.\n",
    "    \n",
    "    Returns:\n",
    "    x (numpy.ndarray): Solution vector.\n",
    "    \"\"\"    \n",
    "    x_old = x0.clone().detach()\n",
    "    x = torch.empty_like(x0)\n",
    "    diagonal = A.diag()\n",
    "    B = A - torch.diag(diagonal)     \n",
    "    for k in range(max_iterations): \n",
    "        x[:] = (b - torch.matmul(B, x_old)) / diagonal   \n",
    "        #Stop condition \n",
    "        error = torch.max(torch.abs(x - x_old))\n",
    "        if  error < tolerance:   \n",
    "            print(f'The L infinity norm in iteration {k+1} is: {error}') \n",
    "            break      \n",
    "        x_old[:] = x\n",
    "    else:\n",
    "        print(f'***WARNING*** Max number of iteration reached {k+1}, L infinity norm is: {error}')        \n",
    "    return x\n",
    "\n",
    "# solve the linear system Ax=b\n",
    "def solve_linear(A, b):\n",
    "        return torch.linalg.solve(A, b)\n",
    "        #return jacobi(A, b, -b)\n",
    "        #return gauss_seidel(A, b, -b)\n",
    "        #return torch.linalg.pinv(A).matmul(b) "
   ]
  },
  {
   "cell_type": "markdown",
   "id": "d181ee9b",
   "metadata": {},
   "source": [
    "### Diffusion/Heat Equation\n",
    "\n",
    "$\n",
    "\\frac{\\displaystyle \\partial u}{\\displaystyle \\partial t} = \\alpha\\nabla^2 u + f \n",
    "$\n",
    "\n",
    "#### Von Neumann stability condition (for explicit)\n",
    "\n",
    "$\n",
    "r = \\frac{\\displaystyle \\alpha \\Delta t}{\\displaystyle (\\Delta x)^2} \\\\\n",
    "r \\le \\frac{\\displaystyle 1}{\\displaystyle 2}\n",
    "$\n",
    "\n"
   ]
  },
  {
   "cell_type": "code",
   "execution_count": 4,
   "id": "c318d2bc",
   "metadata": {},
   "outputs": [],
   "source": [
    "# (solve Au=f for each time step) \n",
    "\n",
    "class Heat(nn.Module): \n",
    "    \"\"\"\n",
    "    Finite difference solution of the Heat/Diffusion equation (parabolic equation)\n",
    "\n",
    "    Parameters\n",
    "    ----------\n",
    "    alpha: float\n",
    "        Diffusivity in m*m/s\n",
    "    dx: float\n",
    "        Block size in meters\n",
    "    N: int\n",
    "        Number of blocks\n",
    "    initial_condition: list (or numpy array) of floats\n",
    "        Initial condition (one value per block -> size N)\n",
    "    boundary_type: list (or numpy array) of str | default ['Dirichlet','Dirichlet']\n",
    "        Left and right boundary condition type (options: 'Dirichlet' or 'Neumann'), e.g. ['Dirichlet','Neumann']    \n",
    "    boundary_values: list (or numpy array) of floats | default [0., 0.]    \n",
    "        Left and right boundary condition values, e.g. [10., -1.]\n",
    "    time_integration: str | default 'implicit'\n",
    "        Time integration (options: explict, implicit or Crank-Nicolson), e.g. 'implicit'\n",
    "    \n",
    "    Methods\n",
    "    -------\n",
    "    forward(dt, source_term=None)\n",
    "        Solve the heat equation for one time step of size dt considering the source term\n",
    "\n",
    "    \"\"\"      \n",
    "    def __init__(self, alpha, dx, N, initial_condition, boundary_type = ['Dirichlet','Dirichlet'], boundary_values=[0, 0], time_integration='implicit'):\n",
    "        super().__init__()\n",
    "        self.N = N # torch.tensor(N, dtype=torch.int32, device=device) -> give error compiled version  \n",
    "        self.alpha = torch.tensor(alpha, dtype=torch.float32, device=device) \n",
    "        self.dx = torch.tensor(dx, dtype=torch.float32, device=device)  \n",
    "        self.u_previous = torch.tensor(initial_condition, dtype=torch.float32, device=device)  # For the first time step\n",
    "        self.boundary_type = boundary_type\n",
    "        self.boundary_values = torch.tensor(boundary_values, dtype=torch.float32, device=device) \n",
    "        self.time_integration = time_integration \n",
    "        self.A = None\n",
    "        self.f = None\n",
    "        #self.timestep_count = torch.tensor(0, dtype=torch.int32, device=device)  # gives warning compiled version\n",
    "        #self.total_time = torch.tensor(0., dtype=torch.float32, device=device)   # gives warning compiled version\n",
    "\n",
    "    \n",
    "    # Solve the PDE discretized equation explicitly  \n",
    "    def solve_explicit(self, dt, source_term):\n",
    "        \n",
    "        # Define r\n",
    "        r = self.alpha*dt/(self.dx*self.dx)\n",
    "       \n",
    "        # initialize u and add source term\n",
    "        u = self.u_previous + dt*source_term\n",
    "        \n",
    "        # Calculate diffusion term for elements not in the boundary\n",
    "        for i in range(1,self.N-1):\n",
    "            u[i] += r*(self.u_previous[i-1]-2*self.u_previous[i]+self.u_previous[i+1])     \n",
    "        \n",
    "        # Calculate diffusion term for elements in the boundaries \n",
    "        ## Left boundary\n",
    "        if self.boundary_type[0] == 'Dirichlet':\n",
    "            u[0] += r*(self.boundary_values[0]-2*self.u_previous[0]+self.u_previous[1])           \n",
    "        elif self.boundary_type[0] == 'Neumann':\n",
    "            u[0] += r*(-self.dx*self.boundary_values[0]-self.u_previous[0]+self.u_previous[1])    \n",
    "        else:\n",
    "            raise RuntimeError('Left boundary: no condition satisfaed!')   \n",
    "        ## Right boundary\n",
    "        if self.boundary_type[1] == 'Dirichlet':\n",
    "            u[-1] += r*(self.u_previous[-2]-2*self.u_previous[-1]+self.boundary_values[-1])  \n",
    "        elif self.boundary_type[1] == 'Neumann':\n",
    "            u[-1] += r*(self.u_previous[-2]-self.u_previous[-1]+self.dx*self.boundary_values[-1])   \n",
    "        else:\n",
    "            raise RuntimeError('Right boundary: no condition satisfaed!')      \n",
    "        \n",
    "        return u\n",
    "\n",
    "    # Solve the PDE discretized equation fully implicit  \n",
    "    def solve_implicit(self, dt, source_term):\n",
    "        \n",
    "        # Define r\n",
    "        r = self.alpha*dt/(self.dx*self.dx)\n",
    "        \n",
    "        # (Au=f) Calculate matrix A and f \n",
    "        ## matrix A\n",
    "        a_main = (1+2*r)*torch.ones((self.N,), dtype=torch.float32, device=device) # Main diagonal values\n",
    "        a_upper = -r*torch.ones((self.N-1,), dtype=torch.float32, device=device)   # Upper diagonal values\n",
    "        a_lower = -r*torch.ones((self.N-1,), dtype=torch.float32, device=device)   # Lower diagonal values\n",
    "        self.A  = torch.diag(a_main, 0)      # Main diagonal\n",
    "        self.A += torch.diag(a_upper, 1)     # Upper diagonal\n",
    "        self.A += torch.diag(a_lower,-1)     # Lower diagonal      \n",
    "        ## Source term plus constants f\n",
    "        self.f = self.u_previous + dt*source_term      \n",
    "        \n",
    "        # Calculate boundary conditions \n",
    "        ## Left boundary\n",
    "        if self.boundary_type[0] == 'Dirichlet':\n",
    "            self.f[0] += self.boundary_values[0]*r  \n",
    "        elif self.boundary_type[0] == 'Neumann':\n",
    "            self.f[0]  += -self.boundary_values[0]*r*self.dx   \n",
    "            self.A[0,0] += -r\n",
    "        else:\n",
    "            raise RuntimeError('Left boundary: no condition satisfaed!')\n",
    "        ## Right boundary\n",
    "        if self.boundary_type[1] == 'Dirichlet':\n",
    "            self.f[-1] += self.boundary_values[-1]*r\n",
    "        elif self.boundary_type[1] == 'Neumann':\n",
    "            self.f[-1] += self.boundary_values[-1]*r*self.dx  \n",
    "            self.A[-1,-1] += -r\n",
    "        else:\n",
    "            raise RuntimeError('Right boundary: no condition satisfaed!')\n",
    "         \n",
    "        # Calculate u from Au=f\n",
    "        u = solve_linear(self.A, self.f)\n",
    "        \n",
    "        return u\n",
    "    \n",
    "    # Solve the PDE discretized equation using Crank-Nicolson (theta = 0 -> explicit, 1-> implicit)\n",
    "    def solve_CrankNicolson(self, dt, source_term, theta=0.5):\n",
    "        \n",
    "        # Define r\n",
    "        r = self.alpha*dt/(self.dx*self.dx)\n",
    "        \n",
    "        # (Au=f) Calculate matrix A and f \n",
    "        #\n",
    "        ## matrix A\n",
    "        a_main = theta*(1+2*r)*torch.ones((self.N,), dtype=torch.float32, device=device) # Main diagonal values\n",
    "        a_upper = -theta*r*torch.ones((self.N-1,), dtype=torch.float32, device=device)   # Upper diagonal values\n",
    "        a_lower = -theta*r*torch.ones((self.N-1,), dtype=torch.float32, device=device)   # Lower diagonal values\n",
    "        self.A  = torch.diag(a_main, 0)   # Main diagonal\n",
    "        self.A += torch.diag(a_upper, 1)     # Upper diagonal\n",
    "        self.A += torch.diag(a_lower,-1)     # Lower diagonal           \n",
    "        #\n",
    "        ## Source term plus constants f\n",
    "        self.f = self.u_previous + dt*source_term\n",
    "        for i in range(1,self.N-1):\n",
    "            self.f[i] += r*(1-theta)*(self.u_previous[i-1]-2*self.u_previous[i]+self.u_previous[i+1])\n",
    "                                            \n",
    "        # Calculate boundary conditions \n",
    "        #\n",
    "        ## Left boundary\n",
    "        if self.boundary_type[0] == 'Dirichlet':\n",
    "            self.f[0] += (1-theta)*r*(self.boundary_values[0]-2*self.u_previous[0]+self.u_previous[1])\n",
    "            self.f[0] += theta*r*self.boundary_values[0]\n",
    "        elif self.boundary_type[0] == 'Neumann':\n",
    "            self.f[0] += (1-theta)*r*(-self.dx*self.boundary_values[0]-self.u_previous[0]+self.u_previous[1])\n",
    "            self.f[0] += -theta*self.dx*r*self.boundary_values[0]\n",
    "            self.A[0,0] += -theta*r\n",
    "        else:\n",
    "            raise RuntimeError('Left boundary: no condition satisfaed!')\n",
    "        ## Right boundary\n",
    "        if self.boundary_type[1] == 'Dirichlet':\n",
    "            self.f[-1] += (1-theta)*r*(self.u_previous[-2]-2*self.u_previous[-1]+self.boundary_values[-1])\n",
    "            self.f[-1] += theta*r*self.boundary_values[-1]\n",
    "        elif self.boundary_type[1] == 'Neumann':\n",
    "            self.f[-1] += (1-theta)*r*(self.u_previous[-2]-self.u_previous[-1]+self.dx*self.boundary_values[-1])\n",
    "            self.f[-1] += theta*self.dx*r*self.boundary_values[-1] \n",
    "            self.A[-1,-1] += -theta*r\n",
    "        else:\n",
    "            raise RuntimeError('Right boundary: no condition satisfaed!')\n",
    "         \n",
    "        # Calculate u from Au=f\n",
    "        u = solve_linear(self.A, self.f)\n",
    "        \n",
    "        return u \n",
    "    \n",
    "            \n",
    "    def forward(self, dt, source_term=None):\n",
    "        \"\"\"\n",
    "        Solve the heat equation for one time step of size dt considering the source term\n",
    "        \n",
    "        \n",
    "        Parameters\n",
    "        ----------\n",
    "        dt: float\n",
    "            Time step size in seconds\n",
    "        source_term: list (or numpy array) of floats | default None\n",
    "            Source term (one value per block -> size N)\n",
    "        \n",
    "        Returns\n",
    "        ----------\n",
    "        u: numpy array of floats\n",
    "            resulted field after time step dt (one value per block -> size N)\n",
    "\n",
    "        \"\"\"  \n",
    "        source_term = torch.zeros((self.N,), dtype=torch.float32, device=device) if source_term == None else torch.tensor(source_term, dtype=torch.float32, device=device)\n",
    "        \n",
    "        if self.time_integration == 'implicit':\n",
    "            #self.timestep_count += 1\n",
    "            #self.total_time += dt\n",
    "            #print(f'Time step {self.timestep_count} => dt = {dt}s, r = {self.alpha*dt/(self.dx*self.dx):.2f}, total time = {self.total_time}s')\n",
    "\n",
    "            u = self.solve_implicit(dt, source_term)\n",
    "            self.u_previous = u\n",
    "            \n",
    "        elif self.time_integration == 'Crank-Nicolson':\n",
    "            #self.timestep_count += 1\n",
    "            #self.total_time += dt\n",
    "            #print(f'Time step {self.timestep_count} => dt = {dt}s, r = {self.alpha*dt/(self.dx*self.dx):.2f}, total time = {self.total_time}s')\n",
    "          \n",
    "            u = self.solve_CrankNicolson(dt, source_term, theta=0.5)\n",
    "            self.u_previous = u            \n",
    "    \n",
    "        elif self.time_integration == 'explicit':\n",
    "            #self.timestep_count += 1\n",
    "            #self.total_time += dt\n",
    "            #print(f'Time step {self.timestep_count} => dt = {dt}s, r = {self.alpha*dt/(self.dx*self.dx):.2f}{\"(***WARNING r>=1/2)\" if self.alpha*dt/(self.dx*self.dx) >= 0.5 else \"\"}, total time = {self.total_time}s')\n",
    "           \n",
    "            u = self.solve_explicit(dt, source_term)\n",
    "            self.u_previous = u\n",
    "            \n",
    "        else:\n",
    "            raise RuntimeError(f'Time integration {self.time_integration} NOT available!')\n",
    "        \n",
    "        return u"
   ]
  },
  {
   "cell_type": "markdown",
   "id": "95350356",
   "metadata": {},
   "source": [
    "### Solve implicit"
   ]
  },
  {
   "cell_type": "code",
   "execution_count": 5,
   "id": "bc52d485",
   "metadata": {},
   "outputs": [],
   "source": [
    "heat = Heat(alpha = 0.001, # Thermal diffusivity of Aluminium (0.0001)\n",
    "            dx=0.01,\n",
    "            N=10000, \n",
    "            initial_condition =  2000*[100.]+3000*[100.]+5000*[0.],\n",
    "            #boundary_type = ['Dirichlet','Neumann'], \n",
    "            #boundary_type = ['Dirichlet','Dirichlet'], \n",
    "            boundary_type = ['Neumann','Neumann'], \n",
    "            boundary_values = [0, 0],\n",
    "            time_integration='implicit').to(device)"
   ]
  },
  {
   "cell_type": "code",
   "execution_count": 6,
   "id": "591403c7",
   "metadata": {},
   "outputs": [],
   "source": [
    "# Initialize u\n",
    "u=[]\n",
    "u.append(heat.u_previous.clone().detach().cpu().numpy())  # Initial condition"
   ]
  },
  {
   "cell_type": "code",
   "execution_count": 7,
   "id": "ea29f365",
   "metadata": {},
   "outputs": [
    {
     "name": "stdout",
     "output_type": "stream",
     "text": [
      "0.888432502746582\n"
     ]
    }
   ],
   "source": [
    "start = time.time()\n",
    "with torch.no_grad():\n",
    "    for _ in range(1):\n",
    "        heat(dt=30.0)\n",
    "    #u.append(heat(dt=30.0, # seconds\n",
    "    #                      #source_term=1*[0.]+9*[0.]+1*[0.]\n",
    "    #                      ).cpu().numpy()\n",
    "    #        )\n",
    "time1 = time.time()-start \n",
    "print(time1)"
   ]
  },
  {
   "cell_type": "code",
   "execution_count": 8,
   "id": "cd5f3caf",
   "metadata": {
    "scrolled": false
   },
   "outputs": [
    {
     "name": "stdout",
     "output_type": "stream",
     "text": [
      "20.176357984542847\n",
      "21.06479048728943\n"
     ]
    },
    {
     "data": {
      "image/png": "[encoded data removed]",
      "text/plain": [
       "<Figure size 640x480 with 1 Axes>"
      ]
     },
     "metadata": {},
     "output_type": "display_data"
    }
   ],
   "source": [
    "start = time.time()\n",
    "with torch.no_grad():\n",
    "    for _ in range(100):\n",
    "        heat(dt=30.0)\n",
    "    #u.append(heat(dt=30.0, # seconds\n",
    "    #                      #source_term=1*[0.]+9*[0.]+1*[0.]\n",
    "    #                      ).cpu().numpy()\n",
    "    #        )\n",
    "time2 = time.time()-start \n",
    "print(time2)\n",
    "print(time1+time2)\n",
    "plt.plot(np.transpose(u));\n",
    "u_imp = u"
   ]
  },
  {
   "cell_type": "code",
   "execution_count": 9,
   "id": "80ea9a04",
   "metadata": {},
   "outputs": [
    {
     "name": "stdout",
     "output_type": "stream",
     "text": [
      "A = \n",
      " tensor([[ 301.0000, -300.0000,    0.0000,  ...,    0.0000,    0.0000,\n",
      "            0.0000],\n",
      "        [-300.0000,  601.0001, -300.0000,  ...,    0.0000,    0.0000,\n",
      "            0.0000],\n",
      "        [   0.0000, -300.0000,  601.0001,  ...,    0.0000,    0.0000,\n",
      "            0.0000],\n",
      "        ...,\n",
      "        [   0.0000,    0.0000,    0.0000,  ...,  601.0001, -300.0000,\n",
      "            0.0000],\n",
      "        [   0.0000,    0.0000,    0.0000,  ..., -300.0000,  601.0001,\n",
      "         -300.0000],\n",
      "        [   0.0000,    0.0000,    0.0000,  ...,    0.0000, -300.0000,\n",
      "          301.0000]], device='cuda:0')\n",
      "\n",
      "u = \n",
      " [100. 100. 100. ...   0.   0.   0.]\n",
      "\n",
      "f = \n",
      " tensor([1.0004e+02, 1.0004e+02, 1.0004e+02,  ..., 1.9974e-41, 1.9974e-41,\n",
      "        1.9974e-41], device='cuda:0')\n",
      "\n"
     ]
    },
    {
     "name": "stderr",
     "output_type": "stream",
     "text": [
      "/home/viluiz/anaconda3/envs/numpde/lib/python3.10/site-packages/numpy/linalg/linalg.py:2139: RuntimeWarning: overflow encountered in det\n",
      "  r = _umath_linalg.det(a, signature=signature)\n"
     ]
    },
    {
     "name": "stdout",
     "output_type": "stream",
     "text": [
      "Determinant = inf\n",
      "Error =  30049.97\n"
     ]
    },
    {
     "data": {
      "text/plain": [
       "[<matplotlib.lines.Line2D at 0x7fa8707125c0>]"
      ]
     },
     "execution_count": 9,
     "metadata": {},
     "output_type": "execute_result"
    },
    {
     "data": {
      "image/png": "[encoded data removed]",
      "text/plain": [
       "<Figure size 640x480 with 1 Axes>"
      ]
     },
     "metadata": {},
     "output_type": "display_data"
    }
   ],
   "source": [
    "print('A = \\n', heat.A)\n",
    "print()\n",
    "print('u = \\n', u[-1])\n",
    "print()\n",
    "print('f = \\n', heat.f)\n",
    "print()\n",
    "print('Determinant =', np.linalg.det(heat.A.cpu()))\n",
    "print('Error = ', np.max(abs(np.dot(heat.A.cpu(),u[-1])-heat.f.cpu().numpy())))\n",
    "\n",
    "plt.plot(np.dot(heat.A.cpu(),u[-1]))\n",
    "plt.plot(heat.f.cpu().numpy(), '--')"
   ]
  },
  {
   "cell_type": "code",
   "execution_count": 10,
   "id": "f27fb489",
   "metadata": {
    "scrolled": false
   },
   "outputs": [
    {
     "name": "stdout",
     "output_type": "stream",
     "text": [
      "[100. 100. 100. ...   0.   0.   0.]\n"
     ]
    },
    {
     "data": {
      "text/plain": [
       "[<matplotlib.lines.Line2D at 0x7fa8706bc310>]"
      ]
     },
     "execution_count": 10,
     "metadata": {},
     "output_type": "execute_result"
    },
    {
     "data": {
      "image/png": "[encoded data removed]",
      "text/plain": [
       "<Figure size 2000x500 with 2 Axes>"
      ]
     },
     "metadata": {},
     "output_type": "display_data"
    }
   ],
   "source": [
    "print(u_imp[-1])\n",
    "fig, axes = plt.subplots(1,2, figsize=(20,5))\n",
    "axes[0].plot(np.array(u_imp)[:,5])\n",
    "axes[1].plot(u_imp[-1])"
   ]
  },
  {
   "cell_type": "markdown",
   "id": "9591b0e3",
   "metadata": {},
   "source": [
    "### Solve explicit"
   ]
  },
  {
   "cell_type": "raw",
   "id": "e1b9ceb5",
   "metadata": {},
   "source": [
    "device = set_device(\"cpu\")"
   ]
  },
  {
   "cell_type": "raw",
   "id": "2b78ec2d",
   "metadata": {},
   "source": [
    "heat = Heat(alpha = 0.001, # Thermal diffusivity of Aluminium (0.0001)\n",
    "            dx=0.01,\n",
    "            N=10000, \n",
    "            initial_condition = 2000*[100.]+3000*[100.]+5000*[0.],\n",
    "            #boundary_type = ['Dirichlet','Neumann'], \n",
    "            #boundary_type = ['Dirichlet','Dirichlet'], \n",
    "            boundary_type = ['Neumann','Neumann'], \n",
    "            boundary_values = [0, 0],\n",
    "            time_integration='explicit')"
   ]
  },
  {
   "cell_type": "raw",
   "id": "00e28137",
   "metadata": {},
   "source": [
    "print(f'Greatest time step explicit = {(heat.dx**2)/(2*heat.alpha):.2f}s')"
   ]
  },
  {
   "cell_type": "raw",
   "id": "1555766c",
   "metadata": {},
   "source": [
    "# Initialize u\n",
    "u=[]\n",
    "u.append(heat.u_previous.clone().detach().cpu().numpy())  # Initial condition"
   ]
  },
  {
   "cell_type": "raw",
   "id": "8c37f4d9",
   "metadata": {
    "scrolled": false
   },
   "source": [
    "start = time.time()\n",
    "for _ in range(6000):\n",
    "    u.append(heat.forward(dt=0.05, # seconds\n",
    "                          #source_term=1*[0.]+9*[0.]+1*[0.]\n",
    "                          ).cpu().numpy()\n",
    "            )\n",
    "print(time.time()-start)\n",
    "plt.plot(np.transpose(u));\n",
    "u_exp = u"
   ]
  },
  {
   "cell_type": "raw",
   "id": "7e10f6ea",
   "metadata": {
    "scrolled": false
   },
   "source": [
    "print(u_exp[-1])\n",
    "print(u_imp[-1])\n",
    "fig, axes = plt.subplots(1,2, figsize=(20,5))\n",
    "axes[0].plot(np.array(u_exp)[:,5])\n",
    "axes[0].plot(np.array(u_imp)[:,5],'--')\n",
    "axes[0].legend(['explicit','implicit'])\n",
    "axes[1].plot(u_exp[-1])\n",
    "axes[1].plot(u_imp[-1],'--')\n",
    "axes[1].legend(['explicit','implicit'])"
   ]
  },
  {
   "cell_type": "markdown",
   "id": "fddb60aa",
   "metadata": {},
   "source": [
    "### Solve Crank-Nicolson"
   ]
  },
  {
   "cell_type": "raw",
   "id": "1786bde0",
   "metadata": {},
   "source": [
    "heat = Heat(alpha = 0.001, # Thermal diffusivity of Aluminium (0.0001)\n",
    "            dx=0.01,\n",
    "            N=10000, \n",
    "            initial_condition = 2000*[10.]+3000*[10.]+5000*[0.],\n",
    "            #boundary_type = ['Dirichlet','Neumann'], \n",
    "            #boundary_type = ['Dirichlet','Dirichlet'], \n",
    "            boundary_type = ['Neumann','Neumann'], \n",
    "            boundary_values = [0, 0],\n",
    "            time_integration='Crank-Nicolson')"
   ]
  },
  {
   "cell_type": "raw",
   "id": "f6cb482f",
   "metadata": {},
   "source": [
    "# Initialize u\n",
    "u=[]\n",
    "u.append(heat.u_previous.clone().detach().cpu().numpy())  # Initial condition"
   ]
  },
  {
   "cell_type": "raw",
   "id": "8a6547e1",
   "metadata": {},
   "source": [
    "start = time.time()\n",
    "for _ in range(10):\n",
    "    u.append(heat.forward(dt=30.0, # seconds\n",
    "                          #source_term=1*[0.]+9*[0.]+1*[0.]\n",
    "                          ).cpu().numpy()\n",
    "            )\n",
    "print(time.time()-start)\n",
    "plt.plot(np.transpose(u));\n",
    "u_cn = u"
   ]
  },
  {
   "cell_type": "raw",
   "id": "08c5cc67",
   "metadata": {},
   "source": [
    "print('A = \\n', heat.A)\n",
    "print()\n",
    "print('u = \\n', u[-1])\n",
    "print()\n",
    "print('f = \\n', heat.f)\n",
    "print()\n",
    "print('Determinant =', np.linalg.det(heat.A.cpu()))\n",
    "print('Error = ', np.max(abs(np.dot(heat.A.cpu(),u[-1])-heat.f.cpu().numpy())))\n",
    "\n",
    "plt.plot(np.dot(heat.A.cpu(),u[-1]))\n",
    "plt.plot(heat.f.cpu().numpy(), '--')"
   ]
  },
  {
   "cell_type": "raw",
   "id": "3e239e37",
   "metadata": {
    "scrolled": false
   },
   "source": [
    "print(u_exp[-1])\n",
    "print(u_imp[-1])\n",
    "print(u_cn[-1])\n",
    "fig, axes = plt.subplots(1,2, figsize=(20,5))\n",
    "axes[0].plot(np.array(u_exp)[:,5])\n",
    "axes[0].plot(np.array(u_imp)[:,5],'--')\n",
    "axes[0].plot(np.array(u_cn)[:,5],'-.')\n",
    "axes[0].legend(['explicit','implicit','Crank-Nicolson'])\n",
    "axes[1].plot(u_exp[-1])\n",
    "axes[1].plot(u_imp[-1],'--')\n",
    "axes[1].plot(u_cn[-1],'-.')\n",
    "axes[1].legend(['explicit','implicit','Crank-Nicolson'])"
   ]
  },
  {
   "cell_type": "code",
   "execution_count": null,
   "id": "a0ea2970",
   "metadata": {},
   "outputs": [],
   "source": []
  }
 ],
 "metadata": {
  "kernelspec": {
   "display_name": "Python 3 (ipykernel)",
   "language": "python",
   "name": "python3"
  },
  "language_info": {
   "codemirror_mode": {
    "name": "ipython",
    "version": 3
   },
   "file_extension": ".py",
   "mimetype": "text/x-python",
   "name": "python",
   "nbconvert_exporter": "python",
   "pygments_lexer": "ipython3",
   "version": "3.10.11"
  }
 },
 "nbformat": 4,
 "nbformat_minor": 5
}
