{
 "cells": [
  {
   "cell_type": "code",
   "execution_count": 1,
   "id": "81b8c224",
   "metadata": {},
   "outputs": [],
   "source": [
    "import matplotlib.pyplot as plt\n",
    "import torch\n",
    "import torch.nn as nn\n",
    "import numpy as np\n",
    "import time"
   ]
  },
  {
   "cell_type": "code",
   "execution_count": 2,
   "id": "b8116519",
   "metadata": {
    "scrolled": true
   },
   "outputs": [
    {
     "name": "stdout",
     "output_type": "stream",
     "text": [
      "torch.cuda.is_available:\t True\n",
      "torch.cuda.device_count:\t 1\n",
      "torch.cuda.current_device:\t 0\n",
      "torch.cuda.device:\t\t <torch.cuda.device object at 0x7fbdfcb08a90>\n",
      "torch.cuda.get_device_name:\t Quadro RTX 4000\n",
      "\n",
      "Running on cpu\n"
     ]
    }
   ],
   "source": [
    "print('torch.cuda.is_available:\\t',torch.cuda.is_available())\n",
    "print('torch.cuda.device_count:\\t',torch.cuda.device_count())\n",
    "print('torch.cuda.current_device:\\t',torch.cuda.current_device())\n",
    "print('torch.cuda.device:\\t\\t',torch.cuda.device(0))\n",
    "print('torch.cuda.get_device_name:\\t',torch.cuda.get_device_name(0))\n",
    "print()\n",
    "\n",
    "def set_device(device=\"cpu\", idx=0):\n",
    "    if device != \"cpu\":\n",
    "        if torch.cuda.device_count() > idx and torch.cuda.is_available():\n",
    "            print(\"Cuda installed! Running on GPU {} {}!\".format(idx, torch.cuda.get_device_name(idx)))\n",
    "            device=\"cuda:{}\".format(idx)\n",
    "        elif torch.cuda.device_count() > 0 and torch.cuda.is_available():\n",
    "            print(\"Cuda installed but only {} GPU(s) available! Running on GPU 0 {}!\".format(torch.cuda.device_count(), torch.cuda.get_device_name()))\n",
    "            device=\"cuda:0\"\n",
    "        else:\n",
    "            device=\"cpu\"\n",
    "            print(\"No GPU available! Running on CPU\")\n",
    "    else:\n",
    "        print('Running on {}'.format(device))\n",
    "    return device\n",
    "\n",
    "device = set_device(\"cpu\")"
   ]
  },
  {
   "cell_type": "code",
   "execution_count": 3,
   "id": "ed305be4",
   "metadata": {},
   "outputs": [],
   "source": [
    "# Gauss-Seidel iterative solution of Ax=b\n",
    "def gauss_seidel(A, b, x0, tolerance=1e-6, max_iterations=10000):\n",
    "    \"\"\"\n",
    "    Solves a linear system of equations using the Gauss-Seidel method.\n",
    "    \n",
    "    Parameters\n",
    "    ----------\n",
    "    A (numpy.ndarray): Coefficient matrix.\n",
    "    b (numpy.ndarray): Right-hand side vector.\n",
    "    x0 (numpy.ndarray): Initial guess for the solution vector.\n",
    "    tol (float): Tolerance for convergence.\n",
    "    max_iter (int): Maximum number of iterations.\n",
    "    \n",
    "    Returns\n",
    "    ----------\n",
    "    x (numpy.ndarray): Solution vector.\n",
    "    \"\"\"\n",
    "    x = x0.clone().detach()\n",
    "    x_old = x0.clone().detach()\n",
    "    for k in range(max_iterations):\n",
    "        #Loop over rows\n",
    "        for i in range(A.shape[0]):\n",
    "            x[i] = (b[i] - torch.matmul(A[i,:i], x[:i]) - torch.matmul(A[i,(i+1):], x_old[(i+1):])) / A[i ,i]\n",
    "        #Stop condition \n",
    "        error = torch.max(torch.abs(x - x_old))\n",
    "        if  error < tolerance:\n",
    "            print(f'The L infinity norm in iteration {k+1} is: {error}') \n",
    "            break     \n",
    "        x_old[:] = x \n",
    "    else:\n",
    "        print(f'***WARNING*** Max number of iteration reached {k+1}, L infinity norm is: {error}')        \n",
    "    return x\n",
    "\n",
    "def jacobi(A, b, x0, tolerance=1e-6, max_iterations=50000):\n",
    "    \"\"\"\n",
    "    Solves a linear system of equations using the Jacobi method.\n",
    "    \n",
    "    Parameters:\n",
    "    A (numpy.ndarray): Coefficient matrix.\n",
    "    b (numpy.ndarray): Right-hand side vector.\n",
    "    x0 (numpy.ndarray): Initial guess for the solution vector.\n",
    "    tolerance (float): Tolerance for convergence.\n",
    "    max_iterations (int): Maximum number of iterations.\n",
    "    \n",
    "    Returns:\n",
    "    x (numpy.ndarray): Solution vector.\n",
    "    \"\"\"    \n",
    "    x_old = x0.clone().detach()\n",
    "    x = torch.empty_like(x0)\n",
    "    diagonal = A.diag()\n",
    "    B = A - torch.diag(diagonal)     \n",
    "    for k in range(max_iterations): \n",
    "        x[:] = (b - torch.matmul(B, x_old)) / diagonal   \n",
    "        #Stop condition \n",
    "        error = torch.max(torch.abs(x - x_old))\n",
    "        if  error < tolerance:   \n",
    "            print(f'The L infinity norm in iteration {k+1} is: {error}') \n",
    "            break      \n",
    "        x_old[:] = x\n",
    "    else:\n",
    "        print(f'***WARNING*** Max number of iteration reached {k+1}, L infinity norm is: {error}')        \n",
    "    return x\n",
    "\n",
    "# solve the linear system Ax=b\n",
    "def solve_linear(A, b):\n",
    "        return torch.linalg.solve(A, b)\n",
    "        #return jacobi(A, b, -b)\n",
    "        #return gauss_seidel(A, b, -b)\n",
    "        #return torch.linalg.pinv(A).matmul(b) "
   ]
  },
  {
   "cell_type": "markdown",
   "id": "15abe582",
   "metadata": {},
   "source": [
    "### Poisson Equation\n",
    "\n",
    "$\n",
    "\\nabla^2 u = \\mathbf{f} \n",
    "$\n",
    "\n"
   ]
  },
  {
   "cell_type": "code",
   "execution_count": 4,
   "id": "c318d2bc",
   "metadata": {},
   "outputs": [],
   "source": [
    "# (solve Au=f) Obs.: The matrix A for poisson with pure Neumann boundary conditions is singular. To solve make \"sum f = 0\".\n",
    "# For this case (pure Neumann) there are infinite solution (different constants). \n",
    "\n",
    "class Poisson(nn.Module): \n",
    "    \"\"\"\n",
    "    Finite difference solution of the Poisson equation (elliptic equation)\n",
    "\n",
    "    Parameters\n",
    "    ----------\n",
    "    dx: float\n",
    "        Block size in meters\n",
    "    N: int\n",
    "        Number of blocks\n",
    "    source_term: list (or numpy array) of floats\n",
    "        Source term (one value per block -> size N)\n",
    "    boundary_type: list (or numpy array) of str | default ['Dirichlet','Dirichlet']\n",
    "        Left and right boundary condition type (options: 'Dirichlet' or 'Neumann'), e.g. ['Dirichlet','Neumann']    \n",
    "    boundary_values: list (or numpy array) of floats | default [0., 0.]    \n",
    "        Left and right boundary condition values, e.g. [10., -1.]\n",
    "    \n",
    "    Methods\n",
    "    -------\n",
    "    forward()\n",
    "        Solve the Possion equation (Au=f)\n",
    "\n",
    "    \"\"\"    \n",
    "    def __init__(self, dx, N, source_term, boundary_type = ['Dirichlet','Dirichlet'], boundary_values = [0., 0.]):     \n",
    "        super().__init__()\n",
    "        self.N = N # torch.tensor(N, dtype=torch.int32, device=device) -> give error compiled version  \n",
    "        self.dx = torch.tensor(dx, dtype=torch.float32, device=device)    \n",
    "        self.source_term = torch.tensor(source_term, dtype=torch.float32, device=device)\n",
    "        self.calculated_A_f = False\n",
    "        self.boundary_type = boundary_type\n",
    "        self.boundary_values = torch.tensor(boundary_values, dtype=torch.float32, device=device)\n",
    "        self.applied_boundary = False\n",
    "        self.A = None\n",
    "        self.f = None\n",
    "        \n",
    "    def calc_A_f_no_boundary(self):\n",
    "        if not self.calculated_A_f:\n",
    "            d = 1/(self.dx*self.dx)\n",
    "            a_main = -2*d*torch.ones((self.N,), dtype=torch.float32, device=device)\n",
    "            a_upper = d*torch.ones((self.N-1,), dtype=torch.float32, device=device)\n",
    "            a_lower = d*torch.ones((self.N-1,), dtype=torch.float32, device=device)\n",
    "            self.A  = torch.diag(a_main, 0)   # Main diagonal\n",
    "            self.A += torch.diag(a_upper, 1)  # Upper diagonal\n",
    "            self.A += torch.diag(a_lower,-1)  # Lower diagonal    \n",
    "            self.f = self.source_term.to(device)                                                                 # Source term\n",
    "            self.calculated_A_f = True\n",
    "        return self.A, self.f\n",
    "    \n",
    "    def apply_boundary_condition(self):\n",
    "        #assert self.calculated_A_f, 'Matriz A or f not calculeted yet!'\n",
    "        if not self.applied_boundary:\n",
    "            #Left boundary\n",
    "            if self.boundary_type[0] == 'Dirichlet':\n",
    "                self.f[0] += self.boundary_values[0]/(-self.dx*self.dx)   \n",
    "            elif self.boundary_type[0] == 'Neumann':\n",
    "                self.f[0]  += self.boundary_values[0]/(self.dx)   \n",
    "                self.A[0,0] += 1/(self.dx*self.dx)\n",
    "                #self.f -= self.f.mean()  # For pure Neumann boundary condition to have a solution\n",
    "            else:\n",
    "                pass\n",
    "                #raise RuntimeError('Left boundary: no condition satisfied!')\n",
    "            #Right boundary\n",
    "            if self.boundary_type[1] == 'Dirichlet':\n",
    "                self.f[-1] += self.boundary_values[-1]/(-self.dx*self.dx) \n",
    "            elif self.boundary_type[1] == 'Neumann':\n",
    "                self.f[-1] += self.boundary_values[-1]/(-self.dx)  \n",
    "                self.A[-1,-1] += 1/(self.dx*self.dx)\n",
    "                #self.f -= self.f.mean()  # For pure Neumann boundary condition to have a solution\n",
    "            else:\n",
    "                pass\n",
    "                #raise RuntimeError('Right boundary: no condition satisfied!')\n",
    "            self.applied_boundary = True\n",
    "        return self.A, self.f       \n",
    "   \n",
    "\n",
    "    def forward(self):\n",
    "        \"\"\"\n",
    "        Solve the Poisson equation (Au=f)\n",
    "        \n",
    "        Returns\n",
    "        ----------\n",
    "        u: numpy array of floats\n",
    "            resulted field (one value per block -> size N)\n",
    "\n",
    "        \"\"\"  \n",
    "        self.calc_A_f_no_boundary()\n",
    "        self.apply_boundary_condition()   \n",
    "        return solve_linear(self.A, self.f)\n",
    "        \n",
    "        "
   ]
  },
  {
   "cell_type": "code",
   "execution_count": 5,
   "id": "bc52d485",
   "metadata": {},
   "outputs": [],
   "source": [
    "poisson = Poisson(dx=0.1,\n",
    "                  N=1000,\n",
    "                  source_term=np.sin(np.linspace(np.pi,2*np.pi,1000,endpoint=False))**5, #40*[0.]+30*[-10.]+40*[0.],\n",
    "                  #boundary_type = ['Dirichlet','Neumann'], \n",
    "                  boundary_type = ['Dirichlet','Dirichlet'], \n",
    "                  #boundary_type = ['Neumann','Neumann'], \n",
    "                  boundary_values = [0, 0]).to(device)"
   ]
  },
  {
   "cell_type": "code",
   "execution_count": 6,
   "id": "11de5728",
   "metadata": {},
   "outputs": [
    {
     "name": "stdout",
     "output_type": "stream",
     "text": [
      "Runtime: 0.0391237735748291\n"
     ]
    },
    {
     "data": {
      "text/plain": [
       "[<matplotlib.lines.Line2D at 0x7fbdfcbac7f0>]"
      ]
     },
     "execution_count": 6,
     "metadata": {},
     "output_type": "execute_result"
    },
    {
     "data": {
      "image/png": "[encoded data removed]",
      "text/plain": [
       "<Figure size 640x480 with 1 Axes>"
      ]
     },
     "metadata": {},
     "output_type": "display_data"
    }
   ],
   "source": [
    "start = time.time()\n",
    "with torch.no_grad(): \n",
    "    u = poisson()\n",
    "print('Runtime:',time.time()-start)\n",
    "plt.plot(u.cpu())"
   ]
  },
  {
   "cell_type": "code",
   "execution_count": 7,
   "id": "ab4ac365",
   "metadata": {
    "scrolled": false
   },
   "outputs": [
    {
     "name": "stdout",
     "output_type": "stream",
     "text": [
      "Runtime: 0.04557919502258301\n"
     ]
    },
    {
     "data": {
      "text/plain": [
       "[<matplotlib.lines.Line2D at 0x7fbd4076e980>]"
      ]
     },
     "execution_count": 7,
     "metadata": {},
     "output_type": "execute_result"
    },
    {
     "data": {
      "image/png": "[encoded data removed]",
      "text/plain": [
       "<Figure size 640x480 with 1 Axes>"
      ]
     },
     "metadata": {},
     "output_type": "display_data"
    }
   ],
   "source": [
    "start = time.time()\n",
    "for _ in range(10):\n",
    "    with torch.no_grad(): \n",
    "        u = poisson()\n",
    "print('Runtime:',time.time()-start)\n",
    "plt.plot(u.cpu())"
   ]
  },
  {
   "cell_type": "code",
   "execution_count": 8,
   "id": "e7a06ae1",
   "metadata": {
    "scrolled": false
   },
   "outputs": [
    {
     "data": {
      "text/plain": [
       "[<matplotlib.lines.Line2D at 0x7fbd4060e170>]"
      ]
     },
     "execution_count": 8,
     "metadata": {},
     "output_type": "execute_result"
    },
    {
     "data": {
      "image/png": "[encoded data removed]",
      "text/plain": [
       "<Figure size 640x480 with 1 Axes>"
      ]
     },
     "metadata": {},
     "output_type": "display_data"
    }
   ],
   "source": [
    "plt.plot(poisson.f.cpu())\n",
    "plt.plot(poisson.A.matmul(u).cpu(),'--')"
   ]
  },
  {
   "cell_type": "code",
   "execution_count": 9,
   "id": "1e40633b",
   "metadata": {},
   "outputs": [
    {
     "data": {
      "text/plain": [
       "tensor(0.0234)"
      ]
     },
     "execution_count": 9,
     "metadata": {},
     "output_type": "execute_result"
    }
   ],
   "source": [
    "torch.max(torch.abs(poisson.A.matmul(u)-poisson.f))"
   ]
  },
  {
   "cell_type": "code",
   "execution_count": 10,
   "id": "3161eb1b",
   "metadata": {
    "scrolled": true
   },
   "outputs": [
    {
     "data": {
      "text/plain": [
       "tensor(inf)"
      ]
     },
     "execution_count": 10,
     "metadata": {},
     "output_type": "execute_result"
    }
   ],
   "source": [
    "torch.linalg.det(poisson.A)"
   ]
  },
  {
   "cell_type": "code",
   "execution_count": 11,
   "id": "b5dfb101",
   "metadata": {},
   "outputs": [
    {
     "name": "stdout",
     "output_type": "stream",
     "text": [
      "tensor([ 0.0000e+00, -3.0602e-13, -9.7923e-12, -7.4357e-11, -3.1332e-10,\n",
      "        -9.5611e-10, -2.3789e-09, -5.1412e-09, -1.0022e-08, -1.8058e-08,\n",
      "        -3.0577e-08, -4.9236e-08, -7.6057e-08, -1.1347e-07, -1.6432e-07,\n",
      "        -2.3195e-07, -3.2021e-07, -4.3347e-07, -5.7671e-07, -7.5549e-07,\n",
      "        -9.7605e-07, -1.2453e-06, -1.5708e-06, -1.9611e-06, -2.4252e-06,\n",
      "        -2.9731e-06, -3.6158e-06, -4.3648e-06, -5.2329e-06, -6.2335e-06,\n",
      "        -7.3814e-06, -8.6921e-06, -1.0182e-05, -1.1869e-05, -1.3773e-05,\n",
      "        -1.5912e-05, -1.8308e-05, -2.0983e-05, -2.3961e-05, -2.7267e-05,\n",
      "        -3.0927e-05, -3.4967e-05, -3.9418e-05, -4.4308e-05, -4.9670e-05,\n",
      "        -5.5536e-05, -6.1941e-05, -6.8920e-05, -7.6510e-05, -8.4751e-05,\n",
      "        -9.3683e-05, -1.0335e-04, -1.1379e-04, -1.2505e-04, -1.3718e-04,\n",
      "        -1.5023e-04, -1.6424e-04, -1.7927e-04, -1.9537e-04, -2.1260e-04,\n",
      "        -2.3101e-04, -2.5066e-04, -2.7162e-04, -2.9394e-04, -3.1769e-04,\n",
      "        -3.4293e-04, -3.6973e-04, -3.9817e-04, -4.2830e-04, -4.6022e-04,\n",
      "        -4.9398e-04, -5.2967e-04, -5.6737e-04, -6.0715e-04, -6.4910e-04,\n",
      "        -6.9331e-04, -7.3985e-04, -7.8883e-04, -8.4032e-04, -8.9443e-04,\n",
      "        -9.5124e-04, -1.0109e-03, -1.0734e-03, -1.1389e-03, -1.2075e-03,\n",
      "        -1.2793e-03, -1.3544e-03, -1.4330e-03, -1.5151e-03, -1.6008e-03,\n",
      "        -1.6903e-03, -1.7836e-03, -1.8809e-03, -1.9824e-03, -2.0880e-03,\n",
      "        -2.1980e-03, -2.3125e-03, -2.4316e-03, -2.5554e-03, -2.6841e-03,\n",
      "        -2.8178e-03, -2.9566e-03, -3.1007e-03, -3.2502e-03, -3.4052e-03,\n",
      "        -3.5659e-03, -3.7325e-03, -3.9050e-03, -4.0836e-03, -4.2685e-03,\n",
      "        -4.4598e-03, -4.6577e-03, -4.8624e-03, -5.0739e-03, -5.2924e-03,\n",
      "        -5.5181e-03, -5.7512e-03, -5.9918e-03, -6.2401e-03, -6.4963e-03,\n",
      "        -6.7604e-03, -7.0328e-03, -7.3134e-03, -7.6026e-03, -7.9005e-03,\n",
      "        -8.2073e-03, -8.5230e-03, -8.8480e-03, -9.1824e-03, -9.5264e-03,\n",
      "        -9.8801e-03, -1.0244e-02, -1.0617e-02, -1.1001e-02, -1.1396e-02,\n",
      "        -1.1801e-02, -1.2217e-02, -1.2644e-02, -1.3082e-02, -1.3532e-02,\n",
      "        -1.3993e-02, -1.4466e-02, -1.4951e-02, -1.5449e-02, -1.5958e-02,\n",
      "        -1.6480e-02, -1.7015e-02, -1.7563e-02, -1.8124e-02, -1.8698e-02,\n",
      "        -1.9286e-02, -1.9887e-02, -2.0502e-02, -2.1132e-02, -2.1776e-02,\n",
      "        -2.2434e-02, -2.3107e-02, -2.3795e-02, -2.4497e-02, -2.5216e-02,\n",
      "        -2.5949e-02, -2.6699e-02, -2.7464e-02, -2.8245e-02, -2.9042e-02,\n",
      "        -2.9856e-02, -3.0687e-02, -3.1534e-02, -3.2399e-02, -3.3280e-02,\n",
      "        -3.4179e-02, -3.5096e-02, -3.6031e-02, -3.6983e-02, -3.7954e-02,\n",
      "        -3.8943e-02, -3.9950e-02, -4.0976e-02, -4.2022e-02, -4.3086e-02,\n",
      "        -4.4169e-02, -4.5273e-02, -4.6395e-02, -4.7538e-02, -4.8700e-02,\n",
      "        -4.9883e-02, -5.1086e-02, -5.2310e-02, -5.3554e-02, -5.4819e-02,\n",
      "        -5.6105e-02, -5.7413e-02, -5.8742e-02, -6.0092e-02, -6.1464e-02,\n",
      "        -6.2858e-02, -6.4274e-02, -6.5712e-02, -6.7172e-02, -6.8655e-02,\n",
      "        -7.0161e-02, -7.1689e-02, -7.3240e-02, -7.4814e-02, -7.6412e-02,\n",
      "        -7.8033e-02, -7.9677e-02, -8.1345e-02, -8.3036e-02, -8.4752e-02,\n",
      "        -8.6491e-02, -8.8255e-02, -9.0043e-02, -9.1855e-02, -9.3692e-02,\n",
      "        -9.5553e-02, -9.7439e-02, -9.9349e-02, -1.0128e-01, -1.0325e-01,\n",
      "        -1.0523e-01, -1.0724e-01, -1.0928e-01, -1.1134e-01, -1.1343e-01,\n",
      "        -1.1554e-01, -1.1767e-01, -1.1984e-01, -1.2203e-01, -1.2424e-01,\n",
      "        -1.2648e-01, -1.2875e-01, -1.3104e-01, -1.3336e-01, -1.3570e-01,\n",
      "        -1.3808e-01, -1.4047e-01, -1.4289e-01, -1.4534e-01, -1.4782e-01,\n",
      "        -1.5032e-01, -1.5285e-01, -1.5540e-01, -1.5798e-01, -1.6059e-01,\n",
      "        -1.6322e-01, -1.6588e-01, -1.6856e-01, -1.7128e-01, -1.7401e-01,\n",
      "        -1.7678e-01, -1.7957e-01, -1.8238e-01, -1.8522e-01, -1.8809e-01,\n",
      "        -1.9099e-01, -1.9391e-01, -1.9685e-01, -1.9983e-01, -2.0282e-01,\n",
      "        -2.0585e-01, -2.0890e-01, -2.1197e-01, -2.1507e-01, -2.1820e-01,\n",
      "        -2.2135e-01, -2.2452e-01, -2.2773e-01, -2.3095e-01, -2.3420e-01,\n",
      "        -2.3748e-01, -2.4078e-01, -2.4411e-01, -2.4746e-01, -2.5083e-01,\n",
      "        -2.5423e-01, -2.5765e-01, -2.6110e-01, -2.6457e-01, -2.6806e-01,\n",
      "        -2.7158e-01, -2.7512e-01, -2.7869e-01, -2.8227e-01, -2.8588e-01,\n",
      "        -2.8951e-01, -2.9317e-01, -2.9685e-01, -3.0054e-01, -3.0427e-01,\n",
      "        -3.0801e-01, -3.1177e-01, -3.1556e-01, -3.1936e-01, -3.2319e-01,\n",
      "        -3.2703e-01, -3.3090e-01, -3.3479e-01, -3.3870e-01, -3.4262e-01,\n",
      "        -3.4657e-01, -3.5053e-01, -3.5452e-01, -3.5852e-01, -3.6254e-01,\n",
      "        -3.6658e-01, -3.7063e-01, -3.7470e-01, -3.7879e-01, -3.8290e-01,\n",
      "        -3.8703e-01, -3.9116e-01, -3.9532e-01, -3.9949e-01, -4.0368e-01,\n",
      "        -4.0788e-01, -4.1209e-01, -4.1632e-01, -4.2057e-01, -4.2483e-01,\n",
      "        -4.2910e-01, -4.3338e-01, -4.3768e-01, -4.4199e-01, -4.4631e-01,\n",
      "        -4.5064e-01, -4.5498e-01, -4.5934e-01, -4.6370e-01, -4.6808e-01,\n",
      "        -4.7246e-01, -4.7685e-01, -4.8126e-01, -4.8567e-01, -4.9009e-01,\n",
      "        -4.9451e-01, -4.9895e-01, -5.0339e-01, -5.0784e-01, -5.1229e-01,\n",
      "        -5.1675e-01, -5.2122e-01, -5.2569e-01, -5.3016e-01, -5.3464e-01,\n",
      "        -5.3912e-01, -5.4361e-01, -5.4809e-01, -5.5258e-01, -5.5708e-01,\n",
      "        -5.6157e-01, -5.6607e-01, -5.7056e-01, -5.7506e-01, -5.7955e-01,\n",
      "        -5.8405e-01, -5.8854e-01, -5.9303e-01, -5.9752e-01, -6.0201e-01,\n",
      "        -6.0650e-01, -6.1098e-01, -6.1545e-01, -6.1993e-01, -6.2440e-01,\n",
      "        -6.2886e-01, -6.3332e-01, -6.3777e-01, -6.4221e-01, -6.4665e-01,\n",
      "        -6.5108e-01, -6.5550e-01, -6.5991e-01, -6.6432e-01, -6.6871e-01,\n",
      "        -6.7310e-01, -6.7747e-01, -6.8183e-01, -6.8618e-01, -6.9052e-01,\n",
      "        -6.9485e-01, -6.9917e-01, -7.0347e-01, -7.0776e-01, -7.1203e-01,\n",
      "        -7.1629e-01, -7.2053e-01, -7.2476e-01, -7.2897e-01, -7.3317e-01,\n",
      "        -7.3735e-01, -7.4151e-01, -7.4565e-01, -7.4978e-01, -7.5388e-01,\n",
      "        -7.5797e-01, -7.6204e-01, -7.6608e-01, -7.7011e-01, -7.7411e-01,\n",
      "        -7.7809e-01, -7.8205e-01, -7.8599e-01, -7.8991e-01, -7.9380e-01,\n",
      "        -7.9766e-01, -8.0150e-01, -8.0532e-01, -8.0911e-01, -8.1288e-01,\n",
      "        -8.1662e-01, -8.2033e-01, -8.2402e-01, -8.2768e-01, -8.3131e-01,\n",
      "        -8.3491e-01, -8.3848e-01, -8.4203e-01, -8.4554e-01, -8.4903e-01,\n",
      "        -8.5248e-01, -8.5590e-01, -8.5929e-01, -8.6265e-01, -8.6598e-01,\n",
      "        -8.6928e-01, -8.7254e-01, -8.7577e-01, -8.7896e-01, -8.8212e-01,\n",
      "        -8.8525e-01, -8.8834e-01, -8.9139e-01, -8.9441e-01, -8.9740e-01,\n",
      "        -9.0034e-01, -9.0325e-01, -9.0613e-01, -9.0896e-01, -9.1176e-01,\n",
      "        -9.1452e-01, -9.1724e-01, -9.1992e-01, -9.2256e-01, -9.2517e-01,\n",
      "        -9.2773e-01, -9.3025e-01, -9.3274e-01, -9.3518e-01, -9.3758e-01,\n",
      "        -9.3994e-01, -9.4226e-01, -9.4453e-01, -9.4677e-01, -9.4896e-01,\n",
      "        -9.5110e-01, -9.5321e-01, -9.5527e-01, -9.5729e-01, -9.5926e-01,\n",
      "        -9.6119e-01, -9.6308e-01, -9.6492e-01, -9.6671e-01, -9.6846e-01,\n",
      "        -9.7017e-01, -9.7183e-01, -9.7344e-01, -9.7501e-01, -9.7653e-01,\n",
      "        -9.7801e-01, -9.7943e-01, -9.8082e-01, -9.8215e-01, -9.8344e-01,\n",
      "        -9.8468e-01, -9.8588e-01, -9.8702e-01, -9.8812e-01, -9.8917e-01,\n",
      "        -9.9017e-01, -9.9113e-01, -9.9203e-01, -9.9289e-01, -9.9370e-01,\n",
      "        -9.9446e-01, -9.9517e-01, -9.9584e-01, -9.9645e-01, -9.9702e-01,\n",
      "        -9.9754e-01, -9.9800e-01, -9.9842e-01, -9.9879e-01, -9.9911e-01,\n",
      "        -9.9938e-01, -9.9961e-01, -9.9978e-01, -9.9990e-01, -9.9998e-01,\n",
      "        -1.0000e+00, -9.9998e-01, -9.9990e-01, -9.9978e-01, -9.9961e-01,\n",
      "        -9.9938e-01, -9.9911e-01, -9.9879e-01, -9.9842e-01, -9.9800e-01,\n",
      "        -9.9754e-01, -9.9702e-01, -9.9645e-01, -9.9584e-01, -9.9517e-01,\n",
      "        -9.9446e-01, -9.9370e-01, -9.9289e-01, -9.9203e-01, -9.9113e-01,\n",
      "        -9.9017e-01, -9.8917e-01, -9.8812e-01, -9.8702e-01, -9.8588e-01,\n",
      "        -9.8468e-01, -9.8344e-01, -9.8215e-01, -9.8082e-01, -9.7943e-01,\n",
      "        -9.7801e-01, -9.7653e-01, -9.7501e-01, -9.7344e-01, -9.7183e-01,\n",
      "        -9.7017e-01, -9.6846e-01, -9.6671e-01, -9.6492e-01, -9.6308e-01,\n",
      "        -9.6119e-01, -9.5926e-01, -9.5729e-01, -9.5527e-01, -9.5321e-01,\n",
      "        -9.5110e-01, -9.4896e-01, -9.4677e-01, -9.4453e-01, -9.4226e-01,\n",
      "        -9.3994e-01, -9.3758e-01, -9.3518e-01, -9.3274e-01, -9.3025e-01,\n",
      "        -9.2773e-01, -9.2517e-01, -9.2256e-01, -9.1992e-01, -9.1724e-01,\n",
      "        -9.1452e-01, -9.1176e-01, -9.0896e-01, -9.0613e-01, -9.0325e-01,\n",
      "        -9.0034e-01, -8.9740e-01, -8.9441e-01, -8.9139e-01, -8.8834e-01,\n",
      "        -8.8525e-01, -8.8212e-01, -8.7896e-01, -8.7577e-01, -8.7254e-01,\n",
      "        -8.6928e-01, -8.6598e-01, -8.6265e-01, -8.5929e-01, -8.5590e-01,\n",
      "        -8.5248e-01, -8.4903e-01, -8.4554e-01, -8.4203e-01, -8.3848e-01,\n",
      "        -8.3491e-01, -8.3131e-01, -8.2768e-01, -8.2402e-01, -8.2033e-01,\n",
      "        -8.1662e-01, -8.1288e-01, -8.0911e-01, -8.0532e-01, -8.0150e-01,\n",
      "        -7.9766e-01, -7.9380e-01, -7.8991e-01, -7.8599e-01, -7.8205e-01,\n",
      "        -7.7809e-01, -7.7411e-01, -7.7011e-01, -7.6608e-01, -7.6204e-01,\n",
      "        -7.5797e-01, -7.5388e-01, -7.4978e-01, -7.4565e-01, -7.4151e-01,\n",
      "        -7.3735e-01, -7.3317e-01, -7.2897e-01, -7.2476e-01, -7.2053e-01,\n",
      "        -7.1629e-01, -7.1203e-01, -7.0776e-01, -7.0347e-01, -6.9917e-01,\n",
      "        -6.9485e-01, -6.9052e-01, -6.8618e-01, -6.8183e-01, -6.7747e-01,\n",
      "        -6.7310e-01, -6.6871e-01, -6.6432e-01, -6.5991e-01, -6.5550e-01,\n",
      "        -6.5108e-01, -6.4665e-01, -6.4221e-01, -6.3777e-01, -6.3332e-01,\n",
      "        -6.2886e-01, -6.2440e-01, -6.1993e-01, -6.1545e-01, -6.1098e-01,\n",
      "        -6.0650e-01, -6.0201e-01, -5.9752e-01, -5.9303e-01, -5.8854e-01,\n",
      "        -5.8405e-01, -5.7955e-01, -5.7506e-01, -5.7056e-01, -5.6607e-01,\n",
      "        -5.6157e-01, -5.5708e-01, -5.5258e-01, -5.4809e-01, -5.4361e-01,\n",
      "        -5.3912e-01, -5.3464e-01, -5.3016e-01, -5.2569e-01, -5.2122e-01,\n",
      "        -5.1675e-01, -5.1229e-01, -5.0784e-01, -5.0339e-01, -4.9895e-01,\n",
      "        -4.9451e-01, -4.9009e-01, -4.8567e-01, -4.8126e-01, -4.7685e-01,\n",
      "        -4.7246e-01, -4.6808e-01, -4.6370e-01, -4.5934e-01, -4.5498e-01,\n",
      "        -4.5064e-01, -4.4631e-01, -4.4199e-01, -4.3768e-01, -4.3338e-01,\n",
      "        -4.2910e-01, -4.2483e-01, -4.2057e-01, -4.1632e-01, -4.1209e-01,\n",
      "        -4.0788e-01, -4.0368e-01, -3.9949e-01, -3.9532e-01, -3.9116e-01,\n",
      "        -3.8703e-01, -3.8290e-01, -3.7879e-01, -3.7470e-01, -3.7063e-01,\n",
      "        -3.6658e-01, -3.6254e-01, -3.5852e-01, -3.5452e-01, -3.5053e-01,\n",
      "        -3.4657e-01, -3.4262e-01, -3.3870e-01, -3.3479e-01, -3.3090e-01,\n",
      "        -3.2703e-01, -3.2319e-01, -3.1936e-01, -3.1556e-01, -3.1177e-01,\n",
      "        -3.0801e-01, -3.0427e-01, -3.0054e-01, -2.9685e-01, -2.9317e-01,\n",
      "        -2.8951e-01, -2.8588e-01, -2.8227e-01, -2.7869e-01, -2.7512e-01,\n",
      "        -2.7158e-01, -2.6806e-01, -2.6457e-01, -2.6110e-01, -2.5765e-01,\n",
      "        -2.5423e-01, -2.5083e-01, -2.4746e-01, -2.4411e-01, -2.4078e-01,\n",
      "        -2.3748e-01, -2.3420e-01, -2.3095e-01, -2.2773e-01, -2.2452e-01,\n",
      "        -2.2135e-01, -2.1820e-01, -2.1507e-01, -2.1197e-01, -2.0890e-01,\n",
      "        -2.0585e-01, -2.0282e-01, -1.9983e-01, -1.9685e-01, -1.9391e-01,\n",
      "        -1.9099e-01, -1.8809e-01, -1.8522e-01, -1.8238e-01, -1.7957e-01,\n",
      "        -1.7678e-01, -1.7401e-01, -1.7128e-01, -1.6856e-01, -1.6588e-01,\n",
      "        -1.6322e-01, -1.6059e-01, -1.5798e-01, -1.5540e-01, -1.5285e-01,\n",
      "        -1.5032e-01, -1.4782e-01, -1.4534e-01, -1.4289e-01, -1.4047e-01,\n",
      "        -1.3808e-01, -1.3570e-01, -1.3336e-01, -1.3104e-01, -1.2875e-01,\n",
      "        -1.2648e-01, -1.2424e-01, -1.2203e-01, -1.1984e-01, -1.1767e-01,\n",
      "        -1.1554e-01, -1.1343e-01, -1.1134e-01, -1.0928e-01, -1.0724e-01,\n",
      "        -1.0523e-01, -1.0325e-01, -1.0128e-01, -9.9349e-02, -9.7439e-02,\n",
      "        -9.5553e-02, -9.3692e-02, -9.1855e-02, -9.0043e-02, -8.8255e-02,\n",
      "        -8.6491e-02, -8.4752e-02, -8.3036e-02, -8.1345e-02, -7.9677e-02,\n",
      "        -7.8033e-02, -7.6412e-02, -7.4814e-02, -7.3240e-02, -7.1689e-02,\n",
      "        -7.0161e-02, -6.8655e-02, -6.7172e-02, -6.5712e-02, -6.4274e-02,\n",
      "        -6.2858e-02, -6.1464e-02, -6.0092e-02, -5.8742e-02, -5.7413e-02,\n",
      "        -5.6105e-02, -5.4819e-02, -5.3554e-02, -5.2310e-02, -5.1086e-02,\n",
      "        -4.9883e-02, -4.8700e-02, -4.7538e-02, -4.6395e-02, -4.5273e-02,\n",
      "        -4.4169e-02, -4.3086e-02, -4.2022e-02, -4.0976e-02, -3.9950e-02,\n",
      "        -3.8943e-02, -3.7954e-02, -3.6983e-02, -3.6031e-02, -3.5096e-02,\n",
      "        -3.4179e-02, -3.3280e-02, -3.2399e-02, -3.1534e-02, -3.0687e-02,\n",
      "        -2.9856e-02, -2.9042e-02, -2.8245e-02, -2.7464e-02, -2.6699e-02,\n",
      "        -2.5949e-02, -2.5216e-02, -2.4497e-02, -2.3795e-02, -2.3107e-02,\n",
      "        -2.2434e-02, -2.1776e-02, -2.1132e-02, -2.0502e-02, -1.9887e-02,\n",
      "        -1.9286e-02, -1.8698e-02, -1.8124e-02, -1.7563e-02, -1.7015e-02,\n",
      "        -1.6480e-02, -1.5958e-02, -1.5449e-02, -1.4951e-02, -1.4466e-02,\n",
      "        -1.3993e-02, -1.3532e-02, -1.3082e-02, -1.2644e-02, -1.2217e-02,\n",
      "        -1.1801e-02, -1.1396e-02, -1.1001e-02, -1.0617e-02, -1.0244e-02,\n",
      "        -9.8801e-03, -9.5264e-03, -9.1824e-03, -8.8480e-03, -8.5230e-03,\n",
      "        -8.2073e-03, -7.9005e-03, -7.6026e-03, -7.3134e-03, -7.0328e-03,\n",
      "        -6.7604e-03, -6.4963e-03, -6.2401e-03, -5.9918e-03, -5.7512e-03,\n",
      "        -5.5181e-03, -5.2924e-03, -5.0739e-03, -4.8624e-03, -4.6577e-03,\n",
      "        -4.4598e-03, -4.2685e-03, -4.0836e-03, -3.9050e-03, -3.7325e-03,\n",
      "        -3.5659e-03, -3.4052e-03, -3.2502e-03, -3.1007e-03, -2.9566e-03,\n",
      "        -2.8178e-03, -2.6841e-03, -2.5554e-03, -2.4316e-03, -2.3125e-03,\n",
      "        -2.1980e-03, -2.0880e-03, -1.9824e-03, -1.8809e-03, -1.7836e-03,\n",
      "        -1.6903e-03, -1.6008e-03, -1.5151e-03, -1.4330e-03, -1.3544e-03,\n",
      "        -1.2793e-03, -1.2075e-03, -1.1389e-03, -1.0734e-03, -1.0109e-03,\n",
      "        -9.5124e-04, -8.9443e-04, -8.4032e-04, -7.8883e-04, -7.3985e-04,\n",
      "        -6.9331e-04, -6.4910e-04, -6.0715e-04, -5.6737e-04, -5.2967e-04,\n",
      "        -4.9398e-04, -4.6022e-04, -4.2830e-04, -3.9817e-04, -3.6973e-04,\n",
      "        -3.4293e-04, -3.1769e-04, -2.9394e-04, -2.7162e-04, -2.5066e-04,\n",
      "        -2.3101e-04, -2.1260e-04, -1.9537e-04, -1.7927e-04, -1.6424e-04,\n",
      "        -1.5023e-04, -1.3718e-04, -1.2505e-04, -1.1379e-04, -1.0335e-04,\n",
      "        -9.3683e-05, -8.4751e-05, -7.6510e-05, -6.8920e-05, -6.1941e-05,\n",
      "        -5.5536e-05, -4.9670e-05, -4.4308e-05, -3.9418e-05, -3.4967e-05,\n",
      "        -3.0927e-05, -2.7267e-05, -2.3961e-05, -2.0983e-05, -1.8308e-05,\n",
      "        -1.5912e-05, -1.3773e-05, -1.1869e-05, -1.0182e-05, -8.6921e-06,\n",
      "        -7.3814e-06, -6.2335e-06, -5.2329e-06, -4.3648e-06, -3.6158e-06,\n",
      "        -2.9731e-06, -2.4252e-06, -1.9611e-06, -1.5708e-06, -1.2453e-06,\n",
      "        -9.7605e-07, -7.5549e-07, -5.7671e-07, -4.3347e-07, -3.2021e-07,\n",
      "        -2.3195e-07, -1.6432e-07, -1.1347e-07, -7.6057e-08, -4.9236e-08,\n",
      "        -3.0577e-08, -1.8058e-08, -1.0022e-08, -5.1412e-09, -2.3789e-09,\n",
      "        -9.5611e-10, -3.1332e-10, -7.4357e-11, -9.7923e-12, -3.0602e-13])\n"
     ]
    }
   ],
   "source": [
    "print(poisson.f)"
   ]
  },
  {
   "cell_type": "code",
   "execution_count": 12,
   "id": "2e586cce",
   "metadata": {},
   "outputs": [
    {
     "name": "stdout",
     "output_type": "stream",
     "text": [
      "tensor([[-200.0000,  100.0000,    0.0000,  ...,    0.0000,    0.0000,\n",
      "            0.0000],\n",
      "        [ 100.0000, -200.0000,  100.0000,  ...,    0.0000,    0.0000,\n",
      "            0.0000],\n",
      "        [   0.0000,  100.0000, -200.0000,  ...,    0.0000,    0.0000,\n",
      "            0.0000],\n",
      "        ...,\n",
      "        [   0.0000,    0.0000,    0.0000,  ..., -200.0000,  100.0000,\n",
      "            0.0000],\n",
      "        [   0.0000,    0.0000,    0.0000,  ...,  100.0000, -200.0000,\n",
      "          100.0000],\n",
      "        [   0.0000,    0.0000,    0.0000,  ...,    0.0000,  100.0000,\n",
      "         -200.0000]])\n"
     ]
    }
   ],
   "source": [
    "print(poisson.A)"
   ]
  },
  {
   "cell_type": "code",
   "execution_count": null,
   "id": "accbeffb",
   "metadata": {},
   "outputs": [],
   "source": []
  }
 ],
 "metadata": {
  "kernelspec": {
   "display_name": "Python 3 (ipykernel)",
   "language": "python",
   "name": "python3"
  },
  "language_info": {
   "codemirror_mode": {
    "name": "ipython",
    "version": 3
   },
   "file_extension": ".py",
   "mimetype": "text/x-python",
   "name": "python",
   "nbconvert_exporter": "python",
   "pygments_lexer": "ipython3",
   "version": "3.10.11"
  }
 },
 "nbformat": 4,
 "nbformat_minor": 5
}
