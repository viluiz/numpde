{
 "cells": [
  {
   "cell_type": "code",
   "execution_count": 1,
   "id": "81b8c224",
   "metadata": {},
   "outputs": [],
   "source": [
    "import matplotlib.pyplot as plt\n",
    "import torch\n",
    "import torch.nn as nn\n",
    "import numpy as np\n",
    "import time"
   ]
  },
  {
   "cell_type": "code",
   "execution_count": 2,
   "id": "95da785c",
   "metadata": {},
   "outputs": [
    {
     "name": "stdout",
     "output_type": "stream",
     "text": [
      "torch.cuda.is_available:\t True\n",
      "torch.cuda.device_count:\t 1\n",
      "torch.cuda.current_device:\t 0\n",
      "torch.cuda.device:\t\t <torch.cuda.device object at 0x7fa15d790ac0>\n",
      "torch.cuda.get_device_name:\t Quadro RTX 4000\n",
      "\n",
      "Running on cpu\n"
     ]
    }
   ],
   "source": [
    "print('torch.cuda.is_available:\\t',torch.cuda.is_available())\n",
    "print('torch.cuda.device_count:\\t',torch.cuda.device_count())\n",
    "print('torch.cuda.current_device:\\t',torch.cuda.current_device())\n",
    "print('torch.cuda.device:\\t\\t',torch.cuda.device(0))\n",
    "print('torch.cuda.get_device_name:\\t',torch.cuda.get_device_name(0))\n",
    "print()\n",
    "\n",
    "def set_device(device=\"cpu\", idx=0):\n",
    "    if device != \"cpu\":\n",
    "        if torch.cuda.device_count() > idx and torch.cuda.is_available():\n",
    "            print(\"Cuda installed! Running on GPU {} {}!\".format(idx, torch.cuda.get_device_name(idx)))\n",
    "            device=\"cuda:{}\".format(idx)\n",
    "        elif torch.cuda.device_count() > 0 and torch.cuda.is_available():\n",
    "            print(\"Cuda installed but only {} GPU(s) available! Running on GPU 0 {}!\".format(torch.cuda.device_count(), torch.cuda.get_device_name()))\n",
    "            device=\"cuda:0\"\n",
    "        else:\n",
    "            device=\"cpu\"\n",
    "            print(\"No GPU available! Running on CPU\")\n",
    "    else:\n",
    "        print('Running on {}'.format(device))\n",
    "    return device\n",
    "\n",
    "device = set_device(\"cpu\")"
   ]
  },
  {
   "cell_type": "code",
   "execution_count": 3,
   "id": "451e7f23",
   "metadata": {},
   "outputs": [],
   "source": [
    "# Gauss-Seidel iterative solution of Ax=b\n",
    "def gauss_seidel(A, b, x0, tolerance=1e-6, max_iterations=10000):\n",
    "    \"\"\"\n",
    "    Solves a linear system of equations using the Gauss-Seidel method.\n",
    "    \n",
    "    Parameters\n",
    "    ----------\n",
    "    A (numpy.ndarray): Coefficient matrix.\n",
    "    b (numpy.ndarray): Right-hand side vector.\n",
    "    x0 (numpy.ndarray): Initial guess for the solution vector.\n",
    "    tol (float): Tolerance for convergence.\n",
    "    max_iter (int): Maximum number of iterations.\n",
    "    \n",
    "    Returns\n",
    "    ----------\n",
    "    x (numpy.ndarray): Solution vector.\n",
    "    \"\"\"\n",
    "    x = x0.clone().detach()\n",
    "    x_old = x0.clone().detach()\n",
    "    for k in range(max_iterations):\n",
    "        #Loop over rows\n",
    "        for i in range(A.shape[0]):\n",
    "            x[i] = (b[i] - torch.matmul(A[i,:i], x[:i]) - torch.matmul(A[i,(i+1):], x_old[(i+1):])) / A[i ,i]\n",
    "        #Stop condition \n",
    "        error = torch.max(torch.abs(x - x_old))\n",
    "        if  error < tolerance:\n",
    "            print(f'The L infinity norm in iteration {k+1} is: {error}') \n",
    "            break     \n",
    "        x_old[:] = x \n",
    "    else:\n",
    "        print(f'***WARNING*** Max number of iteration reached {k+1}, L infinity norm is: {error}')        \n",
    "    return x\n",
    "\n",
    "def jacobi(A, b, x0, tolerance=1e-6, max_iterations=50000):\n",
    "    \"\"\"\n",
    "    Solves a linear system of equations using the Jacobi method.\n",
    "    \n",
    "    Parameters:\n",
    "    A (numpy.ndarray): Coefficient matrix.\n",
    "    b (numpy.ndarray): Right-hand side vector.\n",
    "    x0 (numpy.ndarray): Initial guess for the solution vector.\n",
    "    tolerance (float): Tolerance for convergence.\n",
    "    max_iterations (int): Maximum number of iterations.\n",
    "    \n",
    "    Returns:\n",
    "    x (numpy.ndarray): Solution vector.\n",
    "    \"\"\"    \n",
    "    x_old = x0.clone().detach()\n",
    "    x = torch.empty_like(x0)\n",
    "    diagonal = A.diag()\n",
    "    B = A - torch.diag(diagonal)     \n",
    "    for k in range(max_iterations): \n",
    "        x[:] = (b - torch.matmul(B, x_old)) / diagonal   \n",
    "        #Stop condition \n",
    "        error = torch.max(torch.abs(x - x_old))\n",
    "        if  error < tolerance:   \n",
    "            print(f'The L infinity norm in iteration {k+1} is: {error}') \n",
    "            break      \n",
    "        x_old[:] = x\n",
    "    else:\n",
    "        print(f'***WARNING*** Max number of iteration reached {k+1}, L infinity norm is: {error}')        \n",
    "    return x\n",
    "\n",
    "# solve the linear system Ax=b\n",
    "def solve_linear(A, b):\n",
    "        return torch.linalg.solve(A, b)\n",
    "        #return jacobi(A, b, -b)\n",
    "        #return gauss_seidel(A, b, -b)\n",
    "        #return torch.linalg.pinv(A).matmul(b) "
   ]
  },
  {
   "cell_type": "markdown",
   "id": "d181ee9b",
   "metadata": {},
   "source": [
    "### Advection-Transport\n",
    "\n",
    "$\n",
    "\\frac{\\displaystyle \\partial u}{\\displaystyle \\partial t} + \\mathbf{v} \\cdot \\nabla u = f \n",
    "$\n",
    "\n",
    "where\n",
    "\n",
    "$\\nabla \\cdot \\mathbf{v} = 0$ (incompressible flow)\n",
    "\n",
    "\n",
    "#### Courant–Friedrichs–Lewy number\n",
    "\n",
    "$\n",
    "CFL = \\frac{\\displaystyle v \\Delta t}{\\displaystyle \\Delta x}  \\hspace{0.5cm} \\text{one dimentional}\\\\\n",
    "CFL \\le 1\n",
    "$\n"
   ]
  },
  {
   "cell_type": "code",
   "execution_count": 4,
   "id": "c318d2bc",
   "metadata": {},
   "outputs": [],
   "source": [
    "# (solve Au=f for each time step) \n",
    "\n",
    "class Transport(nn.Module): \n",
    "    \"\"\"\n",
    "    Finite difference solution of the Advection/Transport equation (hyperbolic equation)\n",
    "\n",
    "    Parameters\n",
    "    ----------\n",
    "    velocity: float\n",
    "        Velocity in m/s\n",
    "    dx: float\n",
    "        Block size in meters\n",
    "    N: int\n",
    "        Number of blocks\n",
    "    initial_condition: list (or numpy array) of floats\n",
    "        Initial condition (one value per block -> size N)\n",
    "    boundary_type: list (or numpy array) of str | default ['Dirichlet','Dirichlet']\n",
    "        Left and right boundary condition type (options: 'Dirichlet', 'Neumann' or 'periodic'), e.g. ['Dirichlet','Neumann'] or ['periodic','periodic']  \n",
    "    boundary_values: list (or numpy array) of floats | default [0., 0.]    \n",
    "        Left and right boundary condition values, e.g. [10., -1.]\n",
    "    time_integration: str | default 'implicit'\n",
    "        Time integration (options: explict, implicit or Crank-Nicolson), e.g. 'implicit'\n",
    "    space_discretization: str | default 'upwind'\n",
    "        Space discretization (options: central or upwind), e.g. 'upwind'\n",
    "    \n",
    "    Methods\n",
    "    -------\n",
    "    forward(dt, source_term=None)\n",
    "        Solve the transport equation for one time step of size dt considering the source term\n",
    "\n",
    "    \"\"\"  \n",
    "    def __init__(self, velocity, dx, N, initial_condition, boundary_type = ['Dirichlet','Dirichlet'], boundary_values=[0, 0], time_integration='implicit', space_discretization='upwind'):   \n",
    "        super().__init__()\n",
    "        self.velocity = torch.tensor(velocity, dtype=torch.float32, device=device) \n",
    "        self.dx = torch.tensor(dx, dtype=torch.float32, device=device)  \n",
    "        self.N = N  # torch.tensor(N, dtype=torch.int32, device=device) -> give error compiled version\n",
    "        self.u_previous = torch.tensor(initial_condition, dtype=torch.float32, device=device) # For the first time step\n",
    "        self.boundary_type = boundary_type\n",
    "        self.boundary_values = torch.tensor(boundary_values, dtype=torch.float32, device=device)\n",
    "        self.time_integration = time_integration \n",
    "        self.space_discretization = space_discretization\n",
    "        self.A = None\n",
    "        self.f = None\n",
    "        #self.timestep_count = 0\n",
    "        #self.total_time = 0.\n",
    "        if space_discretization == 'upwind':\n",
    "            if velocity>0:\n",
    "                self.w = torch.tensor(1., dtype=torch.float32, device=device)\n",
    "            else:\n",
    "                self.w = torch.tensor(0., dtype=torch.float32, device=device)\n",
    "        elif space_discretization == 'central':\n",
    "            self.w = torch.tensor(0.5, dtype=torch.float32, device=device)\n",
    "        else:\n",
    "            raise ValueError(f'Space discretization {self.space_discretization} NOT available!')            \n",
    "    \n",
    "    # Solve the PDE discretized equation explicitly  \n",
    "    def solve_explicit(self, dt, source_term):\n",
    "        \n",
    "        #if self.w == 0.5:\n",
    "        #    print('***WARNING central space discretization explicit in time is UNSTABLE!')\n",
    "        \n",
    "        # Define Courant–Friedrichs–Lewy number\n",
    "        cfl = self.velocity*dt/self.dx\n",
    "        \n",
    "        # initialize u and add source term\n",
    "        u = self.u_previous + dt*source_term\n",
    "        \n",
    "        # Calculate advection term for elements not in the boundary\n",
    "        for i in range(1,self.N-1): \n",
    "            u[i] += -cfl*((self.u_previous[i+1]-self.u_previous[i])*(1-self.w)+(self.u_previous[i]-self.u_previous[i-1])*self.w)\n",
    "  \n",
    "        # Calculate advection term for elements in the boundaries \n",
    "        #\n",
    "        ## Left boundary\n",
    "        if self.boundary_type[0] == 'Dirichlet':\n",
    "            u[0] += -cfl*((self.u_previous[1]-self.u_previous[0])*(1-self.w)+(self.u_previous[0]-self.boundary_values[0])*self.w)          \n",
    "        elif self.boundary_type[0] == 'Neumann':\n",
    "            u[0] += -cfl*((self.u_previous[1]-self.u_previous[0])*(1-self.w)+(self.dx*self.boundary_values[0])*self.w)\n",
    "        elif self.boundary_type[0] == 'periodic':\n",
    "            u[0] += -cfl*((self.u_previous[1]-self.u_previous[0])*(1-self.w)+(self.u_previous[0]-self.u_previous[-1])*self.w)              \n",
    "        else:\n",
    "            raise RuntimeError('Left boundary: no condition satisfaed!')    \n",
    "        #\n",
    "        ## Right boundary\n",
    "        if self.boundary_type[1] == 'Dirichlet':\n",
    "            u[-1] += -cfl*((self.boundary_values[-1]-self.u_previous[-1])*(1-self.w)+(self.u_previous[-1]-self.u_previous[-2])*self.w)                     \n",
    "        elif self.boundary_type[1] == 'Neumann':\n",
    "            u[-1] += -cfl*((self.dx*self.boundary_values[-1])*(1-self.w)+(self.u_previous[-1]-self.u_previous[-2])*self.w)     \n",
    "        elif self.boundary_type[1] == 'periodic':\n",
    "            u[-1] += -cfl*((self.u_previous[0]-self.u_previous[-1])*(1-self.w)+(self.u_previous[-1]-self.u_previous[-2])*self.w)                   \n",
    "        else:\n",
    "            raise RuntimeError('Left boundary: no condition satisfaed!')                            \n",
    "                \n",
    "        return u\n",
    "\n",
    "    # Solve the PDE discretized equation fully implicit  \n",
    "    def solve_implicit(self, dt, source_term):\n",
    "        \n",
    "        #if self.w == 0.5:\n",
    "        #    print('***WARNING central space discretization implicit in time generates oscilations!') \n",
    "            \n",
    "        # Define Courant–Friedrichs–Lewy number\n",
    "        cfl = self.velocity*dt/self.dx\n",
    "        \n",
    "        # (Au=f) Calculate matrix A and f \n",
    "        #\n",
    "        ## matrix A\n",
    "        a_main = (1-cfl*(1-self.w)+cfl*self.w)*torch.ones((self.N,), dtype=torch.float32, device=device) # Main diagonal values\n",
    "        a_upper = cfl*(1-self.w)*torch.ones((self.N-1,), dtype=torch.float32, device=device)             # Upper diagonal values\n",
    "        a_lower = -cfl*self.w*torch.ones((self.N-1,), dtype=torch.float32, device=device)                # Lower diagonal values\n",
    "        self.A  = torch.diag(a_main, 0)      # Main diagonal\n",
    "        self.A += torch.diag(a_upper, 1)     # Upper diagonal\n",
    "        self.A += torch.diag(a_lower,-1)     # Lower diagonal                          \n",
    "        #\n",
    "        ## Source term plus constants f\n",
    "        self.f = self.u_previous + dt*source_term            \n",
    "        \n",
    "        # Calculate boundary conditions \n",
    "        #\n",
    "        ## Left boundary\n",
    "        if self.boundary_type[0] == 'Dirichlet':\n",
    "            self.f[0] += self.boundary_values[0]*cfl*self.w                  \n",
    "        elif self.boundary_type[0] == 'Neumann':\n",
    "            self.f[0]  += -self.boundary_values[0]*cfl*self.dx*self.w   \n",
    "            self.A[0,0] += -cfl*self.w     \n",
    "        elif self.boundary_type[0] == 'periodic':\n",
    "            self.A[0,-1] += -cfl*self.w             \n",
    "        else:\n",
    "            raise RuntimeError('Left boundary: no condition satisfaed!')\n",
    "        #\n",
    "        ## Right boundary\n",
    "        if self.boundary_type[1] == 'Dirichlet':\n",
    "            self.f[-1] += -self.boundary_values[-1]*cfl*(1-self.w)              \n",
    "        elif self.boundary_type[1] == 'Neumann':\n",
    "            self.f[-1] += -self.boundary_values[-1]*cfl*self.dx*(1-self.w)  \n",
    "            self.A[-1,-1] += cfl*(1-self.w)     \n",
    "        elif self.boundary_type[1] == 'periodic':\n",
    "            self.A[-1,0] += cfl*(1-self.w)                \n",
    "        else:\n",
    "            raise RuntimeError('Right boundary: no condition satisfaed!')         \n",
    "         \n",
    "        # Calculate u from Au=f\n",
    "        u = solve_linear(self.A, self.f)\n",
    "        \n",
    "        return u\n",
    "    \n",
    "    # Solve the PDE discretized equation using Crank-Nicolson (theta = 0 -> explicit, 1-> implicit)\n",
    "    def solve_CrankNicolson(self, dt, source_term, theta=0.5):\n",
    "        \n",
    "        #if self.w == 0.5:\n",
    "        #    print('***WARNING central space discretization Crank-Nicolson in time generates oscilations!') \n",
    "        #else:\n",
    "        #    print('***WARNING Crank-Nicolson in time may generate oscilations!') \n",
    "        \n",
    "        # Define Courant–Friedrichs–Lewy number\n",
    "        cfl = self.velocity*dt/self.dx   \n",
    "                        \n",
    "        # (Au=f) Calculate matrix A and f \n",
    "        #\n",
    "        ## matrix A\n",
    "        a_main = (1-theta*cfl*(1-self.w)+theta*cfl*self.w)*torch.ones((self.N,), dtype=torch.float32, device=device) # Main diagonal values\n",
    "        a_upper = theta*cfl*(1-self.w)*torch.ones((self.N-1,), dtype=torch.float32, device=device)                   # Upper diagonal values\n",
    "        a_lower = -theta*cfl*self.w*torch.ones((self.N-1,), dtype=torch.float32, device=device)                      # Lower diagonal values\n",
    "        self.A  = torch.diag(a_main, 0)      # Main diagonal\n",
    "        self.A += torch.diag(a_upper, 1)     # Upper diagonal\n",
    "        self.A += torch.diag(a_lower,-1)     # Lower diagonal                     \n",
    "        #\n",
    "        ## Source term plus constants f\n",
    "        self.f = self.u_previous + dt*source_term\n",
    "        for i in range(1,self.N-1):\n",
    "            self.f[i] += -(1-theta)*cfl*((self.u_previous[i+1]-self.u_previous[i])*(1-self.w)+(self.u_previous[i]-self.u_previous[i-1])*self.w)      \n",
    "        \n",
    "        # Calculate boundary conditions \n",
    "        #\n",
    "        ## Left boundary\n",
    "        if self.boundary_type[0] == 'Dirichlet':\n",
    "            self.f[0] += -(1-theta)*cfl*((self.u_previous[1]-self.u_previous[0])*(1-self.w)+(self.u_previous[0]-self.boundary_values[0])*self.w)\n",
    "            self.f[0] += theta*self.boundary_values[0]*cfl*self.w               \n",
    "        elif self.boundary_type[0] == 'Neumann':\n",
    "            self.f[0] += -(1-theta)*cfl*((self.u_previous[1]-self.u_previous[0])*(1-self.w)+(self.dx*self.boundary_values[0])*self.w)\n",
    "            self.f[0] += -theta*self.boundary_values[0]*cfl*self.dx*self.w \n",
    "            self.A[0,0] += -theta*cfl*self.w \n",
    "        elif self.boundary_type[0] == 'periodic':\n",
    "            self.f[0] += -(1-theta)*cfl*((self.u_previous[1]-self.u_previous[0])*(1-self.w)+(self.u_previous[0]-self.u_previous[-1])*self.w)                \n",
    "            self.A[0,-1] += -theta*cfl*self.w                    \n",
    "        else:\n",
    "            raise RuntimeError('Left boundary: no condition satisfaed!')\n",
    "        #\n",
    "        ## Right boundary\n",
    "        if self.boundary_type[1] == 'Dirichlet':\n",
    "            self.f[-1] += -(1-theta)*cfl*((self.boundary_values[-1]-self.u_previous[-1])*(1-self.w)+(self.u_previous[-1]-self.u_previous[-2])*self.w)\n",
    "            self.f[-1] += -theta*self.boundary_values[-1]*cfl*(1-self.w)        \n",
    "        elif self.boundary_type[1] == 'Neumann':\n",
    "            self.f[-1] += -(1-theta)*cfl*((self.dx*self.boundary_values[-1])*(1-self.w)+(self.u_previous[-1]-self.u_previous[-2])*self.w)\n",
    "            self.f[-1] += -theta*self.boundary_values[-1]*cfl*self.dx*(1-self.w) \n",
    "            self.A[-1,-1] += theta*cfl*(1-self.w)\n",
    "        elif self.boundary_type[1] == 'periodic':\n",
    "            self.f[-1] += -(1-theta)*cfl*((self.u_previous[0]-self.u_previous[-1])*(1-self.w)+(self.u_previous[-1]-self.u_previous[-2])*self.w)                \n",
    "            self.A[-1,0] += theta*cfl*(1-self.w)                                \n",
    "        else:\n",
    "            raise RuntimeError('Right boundary: no condition satisfaed!')\n",
    "          \n",
    "        # Calculate u from Au=f\n",
    "        u = solve_linear(self.A, self.f)\n",
    "        \n",
    "        return u \n",
    "    \n",
    "            \n",
    "    def forward(self, dt, source_term=None):\n",
    "        \"\"\"\n",
    "        Solve the transport equation for one time step of size dt considering the source term\n",
    "        \n",
    "        \n",
    "        Parameters\n",
    "        ----------\n",
    "        dt: float\n",
    "            Time step size in seconds\n",
    "        source_term: list (or numpy array) of floats | default None\n",
    "            Source term (one value per block -> size N)\n",
    "        \n",
    "        Returns\n",
    "        ----------\n",
    "        u: numpy array of floats\n",
    "            resulted field after time step dt (one value per block -> size N)\n",
    "\n",
    "        \"\"\"          \n",
    "        source_term = torch.zeros((self.N,), dtype=torch.float32, device=device) if source_term == None else torch.tensor(source_term, dtype=torch.float32, device=device)\n",
    "        \n",
    "        if self.time_integration == 'implicit':\n",
    "            #self.timestep_count += 1\n",
    "            #self.total_time += dt\n",
    "            #print(f'Time step {self.timestep_count} => dt = {dt}s, cfl = {self.velocity*dt/self.dx:.2f}, total time = {self.total_time}s')\n",
    "           \n",
    "            u = self.solve_implicit(dt, source_term)\n",
    "            self.u_previous = u\n",
    "            \n",
    "        elif self.time_integration == 'Crank-Nicolson':\n",
    "            #self.timestep_count += 1\n",
    "            #self.total_time += dt\n",
    "            #print(f'Time step {self.timestep_count} => dt = {dt}s, cfl = {self.velocity*dt/self.dx:.2f}, total time = {self.total_time}s')\n",
    "          \n",
    "            u = self.solve_CrankNicolson(dt, source_term, theta=0.5)\n",
    "            self.u_previous = u            \n",
    "        \n",
    "        elif self.time_integration == 'explicit':\n",
    "            #self.timestep_count += 1\n",
    "            #self.total_time += dt\n",
    "            #print(f'Time step {self.timestep_count} => dt = {dt}s, cfl = {self.velocity*dt/self.dx:.2f}{\"(***WARNING cfl>1)\" if self.velocity*dt/self.dx > 1.0 else \"\"}, total time = {self.total_time}s')\n",
    "           \n",
    "            u = self.solve_explicit(dt, source_term)\n",
    "            self.u_previous = u\n",
    "            \n",
    "        else:\n",
    "            raise RuntimeError(f'Time integration {self.time_integration} NOT available!')\n",
    "        \n",
    "        return u"
   ]
  },
  {
   "cell_type": "markdown",
   "id": "8f373f45",
   "metadata": {},
   "source": [
    "### Solve implicit"
   ]
  },
  {
   "cell_type": "code",
   "execution_count": 5,
   "id": "bc52d485",
   "metadata": {},
   "outputs": [],
   "source": [
    "transport = Transport(velocity = 10.0, \n",
    "            dx=0.1,\n",
    "            N=10000, #110 \n",
    "            initial_condition = 4000*[0.]+2000*[10.]+4000*[0.], #np.sin(np.linspace(0,2*np.pi,110,endpoint=False)), \n",
    "            #boundary_type = ['Dirichlet','Neumann'], \n",
    "            #boundary_type = ['Dirichlet','Dirichlet'], \n",
    "            #boundary_type = ['Neumann','Neumann'], \n",
    "            boundary_type = ['periodic','periodic'], \n",
    "            boundary_values = [0, 0],\n",
    "            time_integration='implicit',\n",
    "            space_discretization='upwind').to(device)"
   ]
  },
  {
   "cell_type": "code",
   "execution_count": 6,
   "id": "ada4a15d",
   "metadata": {},
   "outputs": [],
   "source": [
    "# Initialize u\n",
    "u=[]\n",
    "u.append(transport.u_previous.clone().detach().cpu().numpy())  # Initial condition"
   ]
  },
  {
   "cell_type": "code",
   "execution_count": 7,
   "id": "0a67ee30",
   "metadata": {},
   "outputs": [
    {
     "name": "stdout",
     "output_type": "stream",
     "text": [
      "0.9634239673614502\n"
     ]
    }
   ],
   "source": [
    "start = time.time()\n",
    "with torch.no_grad():\n",
    "    for _ in range(1):\n",
    "        transport(dt=1.0)\n",
    "    #u.append(transport(dt=1.0, # seconds\n",
    "    #                           #source_term=1*[0.]+9*[0.]+1*[0.]\n",
    "    #                           ).cpu().numpy()\n",
    "    #        )\n",
    "time1 = time.time()-start \n",
    "print(time1)"
   ]
  },
  {
   "cell_type": "code",
   "execution_count": 8,
   "id": "cd5f3caf",
   "metadata": {
    "scrolled": false
   },
   "outputs": [
    {
     "name": "stdout",
     "output_type": "stream",
     "text": [
      "97.88663458824158\n",
      "98.85005855560303\n"
     ]
    },
    {
     "data": {
      "image/png": "[encoded data removed]",
      "text/plain": [
       "<Figure size 640x480 with 1 Axes>"
      ]
     },
     "metadata": {},
     "output_type": "display_data"
    }
   ],
   "source": [
    "start = time.time()\n",
    "with torch.no_grad():\n",
    "    for _ in range(100):\n",
    "        transport(dt=1.0)\n",
    "    #u.append(transport(dt=1.0, # seconds\n",
    "    #                           #source_term=1*[0.]+9*[0.]+1*[0.]\n",
    "    #                           ).cpu().numpy()\n",
    "    #        )\n",
    "time2 = time.time()-start \n",
    "print(time2)\n",
    "print(time1+time2)\n",
    "plt.plot(np.transpose(u));\n",
    "u_imp = u"
   ]
  },
  {
   "cell_type": "code",
   "execution_count": 9,
   "id": "9c80f9ef",
   "metadata": {},
   "outputs": [
    {
     "name": "stdout",
     "output_type": "stream",
     "text": [
      "A = \n",
      " tensor([[ 101.,    0.,    0.,  ...,    0.,    0., -100.],\n",
      "        [-100.,  101.,    0.,  ...,    0.,    0.,    0.],\n",
      "        [   0., -100.,  101.,  ...,    0.,    0.,    0.],\n",
      "        ...,\n",
      "        [   0.,    0.,    0.,  ...,  101.,    0.,    0.],\n",
      "        [   0.,    0.,    0.,  ..., -100.,  101.,    0.],\n",
      "        [   0.,    0.,    0.,  ...,    0., -100.,  101.]])\n",
      "\n",
      "u = \n",
      " [0. 0. 0. ... 0. 0. 0.]\n",
      "\n",
      "f = \n",
      " tensor([0.0017, 0.0017, 0.0017,  ..., 0.0017, 0.0017, 0.0017])\n",
      "\n",
      "Determinant = inf\n",
      "Error =  1005.0413\n"
     ]
    },
    {
     "name": "stderr",
     "output_type": "stream",
     "text": [
      "/home/viluiz/anaconda3/envs/numpde/lib/python3.10/site-packages/numpy/linalg/linalg.py:2139: RuntimeWarning: overflow encountered in det\n",
      "  r = _umath_linalg.det(a, signature=signature)\n"
     ]
    },
    {
     "data": {
      "text/plain": [
       "[<matplotlib.lines.Line2D at 0x7fa0a0327be0>]"
      ]
     },
     "execution_count": 9,
     "metadata": {},
     "output_type": "execute_result"
    },
    {
     "data": {
      "image/png": "[encoded data removed]",
      "text/plain": [
       "<Figure size 640x480 with 1 Axes>"
      ]
     },
     "metadata": {},
     "output_type": "display_data"
    }
   ],
   "source": [
    "print('A = \\n', transport.A)\n",
    "print()\n",
    "print('u = \\n', u[-1])\n",
    "print()\n",
    "print('f = \\n', transport.f)\n",
    "print()\n",
    "print('Determinant =', np.linalg.det(transport.A.cpu()))\n",
    "print('Error = ', np.max(abs(np.dot(transport.A.cpu(),u[-1])-transport.f.cpu().numpy())))\n",
    "\n",
    "plt.plot(np.dot(transport.A.cpu(),u[-1]))\n",
    "plt.plot(transport.f.cpu().numpy(), '--')"
   ]
  },
  {
   "cell_type": "code",
   "execution_count": null,
   "id": "17570cb5",
   "metadata": {},
   "outputs": [],
   "source": [
    "print(u_imp[-1])\n",
    "fig, axes = plt.subplots(1,2, figsize=(20,5))\n",
    "axes[0].plot(np.array(u_imp)[:,5])\n",
    "axes[1].plot(u_imp[-1])"
   ]
  },
  {
   "cell_type": "markdown",
   "id": "f3009672",
   "metadata": {},
   "source": [
    "### Solve explicit"
   ]
  },
  {
   "cell_type": "raw",
   "id": "22b7e38a",
   "metadata": {},
   "source": [
    "transport = Transport(velocity = 1.0, \n",
    "            dx=1.0,\n",
    "            N=100, #110 \n",
    "            initial_condition = 40*[0.]+20*[10.]+40*[0.], #np.sin(np.linspace(0,2*np.pi,110,endpoint=False)), \n",
    "            #boundary_type = ['Dirichlet','Neumann'], \n",
    "            #boundary_type = ['Dirichlet','Dirichlet'], \n",
    "            #boundary_type = ['Neumann','Neumann'], \n",
    "            boundary_type = ['periodic','periodic'], \n",
    "            boundary_values = [0, 0],\n",
    "            time_integration='explicit',\n",
    "            space_discretization='upwind')"
   ]
  },
  {
   "cell_type": "raw",
   "id": "b3d1f5ff",
   "metadata": {},
   "source": [
    "print(f'Greatest time step explicit = {transport.dx/transport.velocity:.2f}s')"
   ]
  },
  {
   "cell_type": "raw",
   "id": "ec705574",
   "metadata": {},
   "source": [
    "# Initialize u\n",
    "u=[]\n",
    "u.append(transport.u_previous.copy())  # Initial condition"
   ]
  },
  {
   "cell_type": "raw",
   "id": "35da5428",
   "metadata": {
    "scrolled": true
   },
   "source": [
    "start = time.time()\n",
    "for _ in range(200):\n",
    "    u.append(transport.forward(dt=0.5, # seconds\n",
    "                               #source_term=4*[0.]+3*[0.]+4*[0.]\n",
    "                               )\n",
    "            )\n",
    "print(time.time()-start)\n",
    "plt.plot(np.transpose(u));\n",
    "u_exp = u"
   ]
  },
  {
   "cell_type": "raw",
   "id": "d1c82476",
   "metadata": {
    "scrolled": false
   },
   "source": [
    "print(u_exp[-1])\n",
    "print(u_imp[-1])\n",
    "fig, axes = plt.subplots(1,2, figsize=(20,5))\n",
    "axes[0].plot(np.array(u_exp)[:,5])\n",
    "axes[0].plot(np.array(u_imp)[:,5],'--')\n",
    "axes[0].legend(['explicit','implicit'])\n",
    "axes[1].plot(u_exp[-1])\n",
    "axes[1].plot(u_imp[-1],'--')\n",
    "axes[1].legend(['explicit','implicit'])"
   ]
  },
  {
   "cell_type": "raw",
   "id": "17915b67",
   "metadata": {},
   "source": [
    "### Solve Crank-Nicolson"
   ]
  },
  {
   "cell_type": "raw",
   "id": "b2d9d3b9",
   "metadata": {},
   "source": [
    "transport = Transport(velocity = 1.0, \n",
    "            dx=1.0,\n",
    "            N=100, #110 \n",
    "            initial_condition = 40*[0.]+20*[10.]+40*[0.], #np.sin(np.linspace(0,2*np.pi,110,endpoint=False)), \n",
    "            #boundary_type = ['Dirichlet','Neumann'], \n",
    "            #boundary_type = ['Dirichlet','Dirichlet'], \n",
    "            #boundary_type = ['Neumann','Neumann'], \n",
    "            boundary_type = ['periodic','periodic'],\n",
    "            boundary_values = [0, 0],\n",
    "            time_integration='Crank-Nicolson',\n",
    "            space_discretization='upwind')"
   ]
  },
  {
   "cell_type": "raw",
   "id": "c95ffacd",
   "metadata": {},
   "source": [
    "# Initialize u\n",
    "u=[]\n",
    "u.append(transport.u_previous.copy())  # Initial condition"
   ]
  },
  {
   "cell_type": "raw",
   "id": "e68f9bbb",
   "metadata": {},
   "source": [
    "start = time.time()\n",
    "for _ in range(200):\n",
    "    u.append(transport.forward(dt=0.5, # seconds\n",
    "                               #source_term=1*[0.]+9*[0.]+1*[0.]\n",
    "                               )\n",
    "            )\n",
    "print(time.time()-start)\n",
    "plt.plot(np.transpose(u));\n",
    "u_cn = u"
   ]
  },
  {
   "cell_type": "raw",
   "id": "d241b53c",
   "metadata": {},
   "source": [
    "print('A = \\n', transport.A)\n",
    "print()\n",
    "print('u = \\n', u[-1])\n",
    "print()\n",
    "print('f = \\n', transport.f)\n",
    "print()\n",
    "print('Determinant =', np.linalg.det(transport.A))\n",
    "print('Error = ', np.max(abs(transport.A.dot(u[-1])-transport.f)))\n",
    "\n",
    "plt.plot(transport.A.dot(u[-1]))\n",
    "plt.plot(transport.f, '--')"
   ]
  },
  {
   "cell_type": "raw",
   "id": "94a19757",
   "metadata": {
    "scrolled": false
   },
   "source": [
    "print(u_exp[-1])\n",
    "print(u_imp[-1])\n",
    "print(u_cn[-1])\n",
    "fig, axes = plt.subplots(1,2, figsize=(20,5))\n",
    "axes[0].plot(np.array(u_exp)[:,5])\n",
    "axes[0].plot(np.array(u_imp)[:,5],'--')\n",
    "axes[0].plot(np.array(u_cn)[:,5],'-.')\n",
    "axes[0].legend(['explicit','implicit','Crank-Nicolson'])\n",
    "axes[1].plot(u_exp[-1])\n",
    "axes[1].plot(u_imp[-1],'--')\n",
    "axes[1].plot(u_cn[-1],'-.')\n",
    "axes[1].legend(['explicit','implicit','Crank-Nicolson'])"
   ]
  },
  {
   "cell_type": "raw",
   "id": "34e32271",
   "metadata": {},
   "source": []
  }
 ],
 "metadata": {
  "kernelspec": {
   "display_name": "Python 3 (ipykernel)",
   "language": "python",
   "name": "python3"
  },
  "language_info": {
   "codemirror_mode": {
    "name": "ipython",
    "version": 3
   },
   "file_extension": ".py",
   "mimetype": "text/x-python",
   "name": "python",
   "nbconvert_exporter": "python",
   "pygments_lexer": "ipython3",
   "version": "3.10.11"
  }
 },
 "nbformat": 4,
 "nbformat_minor": 5
}
