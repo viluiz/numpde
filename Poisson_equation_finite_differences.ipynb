{
 "cells": [
  {
   "cell_type": "code",
   "execution_count": 53,
   "id": "81b8c224",
   "metadata": {},
   "outputs": [],
   "source": [
    "import matplotlib.pyplot as plt\n",
    "import numpy as np\n",
    "import time"
   ]
  },
  {
   "cell_type": "code",
   "execution_count": 72,
   "id": "451e7f23",
   "metadata": {},
   "outputs": [],
   "source": [
    "# Gauss-Seidel iterative solution of Ax=b\n",
    "def gauss_seidel(A, b, x, tolerance=1e-10, max_iterations=10000):\n",
    "    iter1 = 0\n",
    "    for k in range(max_iterations):\n",
    "        iter1 += 1   \n",
    "        x_old  = x.copy()\n",
    "        #Loop over rows\n",
    "        for i in range(A.shape[0]):\n",
    "            x[i] = (b[i] - np.dot(A[i,:i], x[:i]) - np.dot(A[i,(i+1):], x_old[(i+1):])) / A[i ,i]\n",
    "        #Stop condition \n",
    "        if  max(abs((x - x_old)))/max(abs(x_old)) < tolerance:\n",
    "            break\n",
    "    print(\"The L infinity norm in iteration\", iter1,\"is:\", max(abs((x - x_old)))/max(abs(x_old)))       \n",
    "    return x\n",
    "\n",
    "# solve the linear system Ax=b\n",
    "def solve_linear(A, b):\n",
    "        #return np.linalg.solve(A, b)\n",
    "        return gauss_seidel(A, b, -b)\n",
    "        #return np.linalg.pinv(A).dot(b) "
   ]
  },
  {
   "cell_type": "markdown",
   "id": "15abe582",
   "metadata": {},
   "source": [
    "### Poisson Equation\n",
    "\n",
    "$\n",
    "\\nabla^2 u = \\mathbf{f} \n",
    "$\n",
    "\n"
   ]
  },
  {
   "cell_type": "code",
   "execution_count": 73,
   "id": "c318d2bc",
   "metadata": {},
   "outputs": [],
   "source": [
    "# (solve Au=f) Obs.: The matrix A for poisson with pure Neumann boundary conditions is singular. To solve make \"sum f = 0\".\n",
    "# For this case (pure Neumann) there are infinite solution (different constants). \n",
    "\n",
    "class Poisson: \n",
    "    \"\"\"\n",
    "    Finite difference solution of the Poisson equation (elliptic equation)\n",
    "\n",
    "    Parameters\n",
    "    ----------\n",
    "    dx: float\n",
    "        Block size in meters\n",
    "    N: int\n",
    "        Number of blocks\n",
    "    source_term: list (or numpy array) of floats\n",
    "        Source term (one value per block -> size N)\n",
    "    boundary_type: list (or numpy array) of str | default ['Dirichlet','Dirichlet']\n",
    "        Left and right boundary condition type (options: 'Dirichlet' or 'Neumann'), e.g. ['Dirichlet','Neumann']    \n",
    "    boundary_values: list (or numpy array) of floats | default [0., 0.]    \n",
    "        Left and right boundary condition values, e.g. [10., -1.]\n",
    "    \n",
    "    Methods\n",
    "    -------\n",
    "    forward()\n",
    "        Solve the Possion equation (Au=f)\n",
    "\n",
    "    \"\"\"    \n",
    "    def __init__(self, dx, N, source_term, boundary_type = ['Dirichlet','Dirichlet'], boundary_values = [0., 0.]):     \n",
    "        self.dx = dx \n",
    "        self.N = N  \n",
    "        self.source_term = source_term\n",
    "        self.A = []\n",
    "        self.f = []\n",
    "        self.calculated_A_f = False\n",
    "        self.boundary_type = boundary_type\n",
    "        self.boundary_values = boundary_values\n",
    "        self.applied_boundary = False\n",
    "        \n",
    "    def calc_A_f_no_boundary(self):\n",
    "        if self.calculated_A_f:\n",
    "            print('A and f already calculated!')\n",
    "        else:\n",
    "            self.A  = np.diag([-2/(self.dx*self.dx)]*self.N,    0)  # Main diagonal\n",
    "            self.A += np.diag([1/(self.dx*self.dx)]*(self.N-1), 1)  # Upper diagonal\n",
    "            self.A += np.diag([1/(self.dx*self.dx)]*(self.N-1),-1)  # Lower diagonal    \n",
    "            self.f = np.array(self.source_term)                     # Source term\n",
    "            self.calculated_A_f = True\n",
    "        return self.A, self.f\n",
    "    \n",
    "    def apply_boundary_condition(self):\n",
    "        if (len(self.f)==0) or (len(self.A)==0):\n",
    "            print('Matriz A or f not calculeted yet!')\n",
    "        elif self.applied_boundary:\n",
    "            print('Boundary already applied!')\n",
    "        else:\n",
    "            #Left boundary\n",
    "            if self.boundary_type[0] == 'Dirichlet':\n",
    "                self.f[0] += np.array(self.boundary_values[0])/(-self.dx*self.dx)   \n",
    "            elif self.boundary_type[0] == 'Neumann':\n",
    "                self.f[0]  += np.array(self.boundary_values[0])/(self.dx)   \n",
    "                self.A[0,0] += 1/(self.dx*self.dx)\n",
    "                #self.f -= self.f.mean()  # For pure Neumann boundary condition to have a solution\n",
    "            else:\n",
    "                raise RuntimeError('Left boundary: no condition satisfaed!')\n",
    "            #Right boundary\n",
    "            if self.boundary_type[1] == 'Dirichlet':\n",
    "                self.f[-1] += np.array(self.boundary_values[-1])/(-self.dx*self.dx) \n",
    "            elif self.boundary_type[1] == 'Neumann':\n",
    "                self.f[-1] += np.array(self.boundary_values[-1])/(-self.dx)  \n",
    "                self.A[-1,-1] += 1/(self.dx*self.dx)\n",
    "                #self.f -= self.f.mean()  # For pure Neumann boundary condition to have a solution\n",
    "            else:\n",
    "                raise RuntimeError('Right boundary: no condition satisfaed!')\n",
    "            self.applied_boundary = True\n",
    "        return self.A, self.f    \n",
    "    \n",
    "    def forward(self):\n",
    "        \"\"\"\n",
    "        Solve the Poisson equation (Au=f)\n",
    "        \n",
    "        Returns\n",
    "        ----------\n",
    "        u: numpy array of floats\n",
    "            resulted field (one value per block -> size N)\n",
    "\n",
    "        \"\"\"  \n",
    "        self.calc_A_f_no_boundary()\n",
    "        self.apply_boundary_condition()   \n",
    "        return solve_linear(self.A, self.f)\n",
    "        \n",
    "        "
   ]
  },
  {
   "cell_type": "code",
   "execution_count": 74,
   "id": "bc52d485",
   "metadata": {},
   "outputs": [],
   "source": [
    "poisson = Poisson(dx=0.1,\n",
    "                  N=11,\n",
    "                  source_term=4*[0.]+3*[-10.]+4*[0.], \n",
    "                  boundary_type = ['Dirichlet','Neumann'], \n",
    "                  #boundary_type = ['Dirichlet','Dirichlet'], \n",
    "                  #boundary_type = ['Neumann','Neumann'], \n",
    "                  boundary_values = [1, -1])"
   ]
  },
  {
   "cell_type": "code",
   "execution_count": 75,
   "id": "cd5f3caf",
   "metadata": {
    "scrolled": false
   },
   "outputs": [
    {
     "name": "stdout",
     "output_type": "stream",
     "text": [
      "The L infinity norm in iteration 874 is: 9.886208292540125e-11\n",
      "Runtime: 0.04781150817871094\n"
     ]
    },
    {
     "data": {
      "text/plain": [
       "[<matplotlib.lines.Line2D at 0x7ff32df0be20>]"
      ]
     },
     "execution_count": 75,
     "metadata": {},
     "output_type": "execute_result"
    },
    {
     "data": {
      "image/png": "[encoded data removed]",
      "text/plain": [
       "<Figure size 432x288 with 1 Axes>"
      ]
     },
     "metadata": {
      "needs_background": "light"
     },
     "output_type": "display_data"
    }
   ],
   "source": [
    "start = time.time()\n",
    "u = poisson.forward()\n",
    "print('Runtime:',time.time()-start)\n",
    "plt.plot(u)"
   ]
  },
  {
   "cell_type": "code",
   "execution_count": 39,
   "id": "e7a06ae1",
   "metadata": {},
   "outputs": [
    {
     "data": {
      "text/plain": [
       "[<matplotlib.lines.Line2D at 0x7ff32ec69430>]"
      ]
     },
     "execution_count": 39,
     "metadata": {},
     "output_type": "execute_result"
    },
    {
     "data": {
      "image/png": "[encoded data removed]",
      "text/plain": [
       "<Figure size 432x288 with 1 Axes>"
      ]
     },
     "metadata": {
      "needs_background": "light"
     },
     "output_type": "display_data"
    }
   ],
   "source": [
    "plt.plot(poisson.f)\n",
    "plt.plot(poisson.A.dot(u),'--')"
   ]
  },
  {
   "cell_type": "code",
   "execution_count": 40,
   "id": "1e40633b",
   "metadata": {},
   "outputs": [
    {
     "data": {
      "text/plain": [
       "2.0761035557370633e-08"
      ]
     },
     "execution_count": 40,
     "metadata": {},
     "output_type": "execute_result"
    }
   ],
   "source": [
    "np.max(abs(poisson.A.dot(u)-poisson.f))"
   ]
  },
  {
   "cell_type": "code",
   "execution_count": 41,
   "id": "3161eb1b",
   "metadata": {
    "scrolled": true
   },
   "outputs": [
    {
     "data": {
      "text/plain": [
       "-9.999999999999958e+21"
      ]
     },
     "execution_count": 41,
     "metadata": {},
     "output_type": "execute_result"
    }
   ],
   "source": [
    "np.linalg.det(poisson.A)"
   ]
  },
  {
   "cell_type": "code",
   "execution_count": 42,
   "id": "b5dfb101",
   "metadata": {},
   "outputs": [
    {
     "name": "stdout",
     "output_type": "stream",
     "text": [
      "[-100.    0.    0.    0.  -10.  -10.  -10.    0.    0.    0.   10.]\n"
     ]
    }
   ],
   "source": [
    "print(poisson.f)"
   ]
  },
  {
   "cell_type": "code",
   "execution_count": 43,
   "id": "2e586cce",
   "metadata": {},
   "outputs": [
    {
     "name": "stdout",
     "output_type": "stream",
     "text": [
      "[[-200.  100.    0.    0.    0.    0.    0.    0.    0.    0.    0.]\n",
      " [ 100. -200.  100.    0.    0.    0.    0.    0.    0.    0.    0.]\n",
      " [   0.  100. -200.  100.    0.    0.    0.    0.    0.    0.    0.]\n",
      " [   0.    0.  100. -200.  100.    0.    0.    0.    0.    0.    0.]\n",
      " [   0.    0.    0.  100. -200.  100.    0.    0.    0.    0.    0.]\n",
      " [   0.    0.    0.    0.  100. -200.  100.    0.    0.    0.    0.]\n",
      " [   0.    0.    0.    0.    0.  100. -200.  100.    0.    0.    0.]\n",
      " [   0.    0.    0.    0.    0.    0.  100. -200.  100.    0.    0.]\n",
      " [   0.    0.    0.    0.    0.    0.    0.  100. -200.  100.    0.]\n",
      " [   0.    0.    0.    0.    0.    0.    0.    0.  100. -200.  100.]\n",
      " [   0.    0.    0.    0.    0.    0.    0.    0.    0.  100. -100.]]\n"
     ]
    }
   ],
   "source": [
    "print(poisson.A)"
   ]
  },
  {
   "cell_type": "code",
   "execution_count": null,
   "id": "accbeffb",
   "metadata": {},
   "outputs": [],
   "source": []
  },
  {
   "cell_type": "code",
   "execution_count": null,
   "id": "33900a01",
   "metadata": {},
   "outputs": [],
   "source": []
  }
 ],
 "metadata": {
  "kernelspec": {
   "display_name": "Python 3 (ipykernel)",
   "language": "python",
   "name": "python3"
  },
  "language_info": {
   "codemirror_mode": {
    "name": "ipython",
    "version": 3
   },
   "file_extension": ".py",
   "mimetype": "text/x-python",
   "name": "python",
   "nbconvert_exporter": "python",
   "pygments_lexer": "ipython3",
   "version": "3.9.7"
  }
 },
 "nbformat": 4,
 "nbformat_minor": 5
}
