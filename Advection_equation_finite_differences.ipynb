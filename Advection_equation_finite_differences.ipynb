{
 "cells": [
  {
   "cell_type": "code",
   "execution_count": 20,
   "id": "81b8c224",
   "metadata": {},
   "outputs": [],
   "source": [
    "import matplotlib.pyplot as plt\n",
    "import numpy as np\n",
    "import time"
   ]
  },
  {
   "cell_type": "code",
   "execution_count": 128,
   "id": "451e7f23",
   "metadata": {},
   "outputs": [],
   "source": [
    "# Gauss-Seidel iterative solution of Ax=b\n",
    "def gauss_seidel(A, b, x, tolerance=1e-10, max_iterations=10000):\n",
    "    iter1 = 0\n",
    "    for k in range(max_iterations):\n",
    "        iter1 += 1   \n",
    "        x_old  = x.copy()\n",
    "        #Loop over rows\n",
    "        for i in range(A.shape[0]):\n",
    "            x[i] = (b[i] - np.dot(A[i,:i], x[:i]) - np.dot(A[i,(i+1):], x_old[(i+1):])) / A[i ,i]\n",
    "        #Stop condition \n",
    "        if  max(abs((x - x_old)))/max(abs(x_old)) < tolerance:\n",
    "            break\n",
    "    #print(\"The L infinity norm in iteration\", iter1,\"is:\", max(abs((x - x_old)))/max(abs(x_old)))       \n",
    "    return x\n",
    "\n",
    "# solve the linear system Ax=b\n",
    "def solve_linear(A, b):\n",
    "        return np.linalg.solve(A, b)\n",
    "        #return gauss_seidel(A, b, -b)\n",
    "        #return np.linalg.pinv(A).dot(b) "
   ]
  },
  {
   "cell_type": "markdown",
   "id": "d181ee9b",
   "metadata": {},
   "source": [
    "### Advection-Transport\n",
    "\n",
    "$\n",
    "\\frac{\\displaystyle \\partial u}{\\displaystyle \\partial t} + \\mathbf{v} \\cdot \\nabla u = f \n",
    "$\n",
    "\n",
    "where\n",
    "\n",
    "$\\nabla \\cdot \\mathbf{v} = 0$ (incompressible flow)\n",
    "\n",
    "\n",
    "#### Courant–Friedrichs–Lewy number\n",
    "\n",
    "$\n",
    "CFL = \\frac{\\displaystyle v \\Delta t}{\\displaystyle \\Delta x}  \\hspace{0.5cm} \\text{one dimentional}\\\\\n",
    "CFL \\le 1\n",
    "$\n"
   ]
  },
  {
   "cell_type": "code",
   "execution_count": 188,
   "id": "c318d2bc",
   "metadata": {},
   "outputs": [],
   "source": [
    "# (solve Au=f for each time step) \n",
    "\n",
    "class Transport: \n",
    "    \"\"\"\n",
    "    Finite difference solution of the Advection/Transport equation (hyperbolic equation)\n",
    "\n",
    "    Parameters\n",
    "    ----------\n",
    "    velocity: float\n",
    "        Velocity in m/s\n",
    "    dx: float\n",
    "        Block size in meters\n",
    "    N: int\n",
    "        Number of blocks\n",
    "    initial_condition: list (or numpy array) of floats\n",
    "        Initial condition (one value per block -> size N)\n",
    "    boundary_type: list (or numpy array) of str | default ['Dirichlet','Dirichlet']\n",
    "        Left and right boundary condition type (options: 'Dirichlet', 'Neumann' or 'periodic'), e.g. ['Dirichlet','Neumann'] or ['periodic','periodic']  \n",
    "    boundary_values: list (or numpy array) of floats | default [0., 0.]    \n",
    "        Left and right boundary condition values, e.g. [10., -1.]\n",
    "    time_integration: str | default 'implicit'\n",
    "        Time integration (options: explict, implicit or Crank-Nicolson), e.g. 'implicit'\n",
    "    space_discretization: str | default 'upwind'\n",
    "        Space discretization (options: central or upwind), e.g. 'upwind'\n",
    "    \n",
    "    Methods\n",
    "    -------\n",
    "    forward(dt, source_term=None)\n",
    "        Solve the transport equation for one time step of size dt considering the source term\n",
    "\n",
    "    \"\"\"  \n",
    "    def __init__(self, velocity, dx, N, initial_condition, boundary_type = ['Dirichlet','Dirichlet'], boundary_values=[0, 0], time_integration='implicit', space_discretization='upwind'):   \n",
    "        self.velocity = velocity\n",
    "        self.dx = dx \n",
    "        self.N = N  \n",
    "        self.u_previous = np.array(initial_condition) # For the first time step\n",
    "        self.boundary_type = boundary_type\n",
    "        self.boundary_values = boundary_values\n",
    "        self.time_integration = time_integration \n",
    "        self.space_discretization = space_discretization\n",
    "        self.timestep_count = 0\n",
    "        if time_integration == 'implicit' or time_integration == 'Crank-Nicolson':\n",
    "            self.A = np.empty((N,N))\n",
    "            self.f = np.empty(N)\n",
    "        if space_discretization == 'upwind':\n",
    "            self.w = 1. if velocity>0 else 0.\n",
    "        elif space_discretization == 'central':\n",
    "            self.w = 0.5\n",
    "        else:\n",
    "            print(f'Space discretization {self.space_discretization} NOT available!')            \n",
    "    \n",
    "    # Solve the PDE discretized equation explicitly  \n",
    "    def solve_explicit(self, dt, source_term):\n",
    "        \n",
    "        if self.w == 0.5:\n",
    "            print('***WARNING central space discretization explicit in time is UNSTABLE!')\n",
    "        \n",
    "        # Define Courant–Friedrichs–Lewy number\n",
    "        cfl = self.velocity*dt/self.dx\n",
    "        \n",
    "        # initialize u and add source term\n",
    "        u = self.u_previous + dt*source_term\n",
    "        \n",
    "        # Calculate advection term for elements not in the boundary\n",
    "        for i in range(1,self.N-1): \n",
    "            u[i] += -cfl*((self.u_previous[i+1]-self.u_previous[i])*(1-self.w)+(self.u_previous[i]-self.u_previous[i-1])*self.w)\n",
    "  \n",
    "        # Calculate advection term for elements in the boundaries \n",
    "        #\n",
    "        ## Left boundary\n",
    "        if self.boundary_type[0] == 'Dirichlet':\n",
    "            u[0] += -cfl*((self.u_previous[1]-self.u_previous[0])*(1-self.w)+(self.u_previous[0]-self.boundary_values[0])*self.w)          \n",
    "        elif self.boundary_type[0] == 'Neumann':\n",
    "            u[0] += -cfl*((self.u_previous[1]-self.u_previous[0])*(1-self.w)+(self.dx*self.boundary_values[0])*self.w)\n",
    "        elif self.boundary_type[0] == 'periodic':\n",
    "            u[0] += -cfl*((self.u_previous[1]-self.u_previous[0])*(1-self.w)+(self.u_previous[0]-self.u_previous[-1])*self.w)              \n",
    "        else:\n",
    "            print('Left boundary: no condition satisfaed!')    \n",
    "        #\n",
    "        ## Right boundary\n",
    "        if self.boundary_type[1] == 'Dirichlet':\n",
    "            u[-1] += -cfl*((self.boundary_values[-1]-self.u_previous[-1])*(1-self.w)+(self.u_previous[-1]-self.u_previous[-2])*self.w)                     \n",
    "        elif self.boundary_type[1] == 'Neumann':\n",
    "            u[-1] += -cfl*((self.dx*self.boundary_values[-1])*(1-self.w)+(self.u_previous[-1]-self.u_previous[-2])*self.w)     \n",
    "        elif self.boundary_type[1] == 'periodic':\n",
    "            u[-1] += -cfl*((self.u_previous[0]-self.u_previous[-1])*(1-self.w)+(self.u_previous[-1]-self.u_previous[-2])*self.w)                   \n",
    "        else:\n",
    "            print('Left boundary: no condition satisfaed!')                            \n",
    "                \n",
    "        return u\n",
    "\n",
    "    # Solve the PDE discretized equation fully implicit  \n",
    "    def solve_implicit(self, dt, source_term):\n",
    "        \n",
    "        if self.w == 0.5:\n",
    "            print('***WARNING central space discretization implicit in time generates oscilations!') \n",
    "            \n",
    "        # Define Courant–Friedrichs–Lewy number\n",
    "        cfl = self.velocity*dt/self.dx\n",
    "        \n",
    "        # (Au=f) Calculate matrix A and f \n",
    "        #\n",
    "        ## matrix A\n",
    "        self.A[:] = np.diag([1-cfl*(1-self.w)+cfl*self.w]*self.N,  0)  # Main diagonal\n",
    "        self.A += np.diag([cfl*(1-self.w)]*(self.N-1), 1)              # Upper diagonal\n",
    "        self.A += np.diag([-cfl*self.w]*(self.N-1),-1)                 # Lower diagonal                \n",
    "        #\n",
    "        ## Source term plus constants f\n",
    "        self.f[:] = self.u_previous + dt*source_term            \n",
    "        \n",
    "        # Calculate boundary conditions \n",
    "        #\n",
    "        ## Left boundary\n",
    "        if self.boundary_type[0] == 'Dirichlet':\n",
    "            self.f[0] += self.boundary_values[0]*cfl*self.w                  \n",
    "        elif self.boundary_type[0] == 'Neumann':\n",
    "            self.f[0]  += -self.boundary_values[0]*cfl*self.dx*self.w   \n",
    "            self.A[0,0] += -cfl*self.w     \n",
    "        elif self.boundary_type[0] == 'periodic':\n",
    "            self.A[0,-1] += -cfl*self.w             \n",
    "        else:\n",
    "            print('Left boundary: no condition satisfaed!')\n",
    "        #\n",
    "        ## Right boundary\n",
    "        if self.boundary_type[1] == 'Dirichlet':\n",
    "            self.f[-1] += -self.boundary_values[-1]*cfl*(1-self.w)              \n",
    "        elif self.boundary_type[1] == 'Neumann':\n",
    "            self.f[-1] += -self.boundary_values[-1]*cfl*self.dx*(1-self.w)  \n",
    "            self.A[-1,-1] += cfl*(1-self.w)     \n",
    "        elif self.boundary_type[1] == 'periodic':\n",
    "            self.A[-1,0] += cfl*(1-self.w)                \n",
    "        else:\n",
    "            print('Right boundary: no condition satisfaed!')         \n",
    "         \n",
    "        # Calculate u from Au=f\n",
    "        u = solve_linear(self.A, self.f)\n",
    "        \n",
    "        return u\n",
    "    \n",
    "    # Solve the PDE discretized equation using Crank-Nicolson (theta = 0 -> explicit, 1-> implicit)\n",
    "    def solve_CrankNicolson(self, dt, source_term, theta=0.5):\n",
    "        \n",
    "        if self.w == 0.5:\n",
    "            print('***WARNING central space discretization Crank-Nicolson in time generates oscilations!') \n",
    "        else:\n",
    "            print('***WARNING Crank-Nicolson in time may generate oscilations!') \n",
    "        \n",
    "        # Define Courant–Friedrichs–Lewy number\n",
    "        cfl = self.velocity*dt/self.dx   \n",
    "                        \n",
    "        # (Au=f) Calculate matrix A and f \n",
    "        #\n",
    "        ## matrix A\n",
    "        self.A[:] = np.diag([1-theta*cfl*(1-self.w)+theta*cfl*self.w]*self.N,  0)  # Main diagonal\n",
    "        self.A += np.diag([theta*cfl*(1-self.w)]*(self.N-1), 1)                    # Upper diagonal\n",
    "        self.A += np.diag([-theta*cfl*self.w]*(self.N-1),-1)                       # Lower diagonal             \n",
    "        #\n",
    "        ## Source term plus constants f\n",
    "        self.f[:] = self.u_previous + dt*source_term\n",
    "        for i in range(1,self.N-1):\n",
    "            self.f[i] += -(1-theta)*cfl*((self.u_previous[i+1]-self.u_previous[i])*(1-self.w)+(self.u_previous[i]-self.u_previous[i-1])*self.w)      \n",
    "        \n",
    "        # Calculate boundary conditions \n",
    "        #\n",
    "        ## Left boundary\n",
    "        if self.boundary_type[0] == 'Dirichlet':\n",
    "            self.f[0] += -(1-theta)*cfl*((self.u_previous[1]-self.u_previous[0])*(1-self.w)+(self.u_previous[0]-self.boundary_values[0])*self.w)\n",
    "            self.f[0] += theta*self.boundary_values[0]*cfl*self.w               \n",
    "        elif self.boundary_type[0] == 'Neumann':\n",
    "            self.f[0] += -(1-theta)*cfl*((self.u_previous[1]-self.u_previous[0])*(1-self.w)+(self.dx*self.boundary_values[0])*self.w)\n",
    "            self.f[0] += -theta*self.boundary_values[0]*cfl*self.dx*self.w \n",
    "            self.A[0,0] += -theta*cfl*self.w \n",
    "        elif self.boundary_type[0] == 'periodic':\n",
    "            self.f[0] += -(1-theta)*cfl*((self.u_previous[1]-self.u_previous[0])*(1-self.w)+(self.u_previous[0]-self.u_previous[-1])*self.w)                \n",
    "            self.A[0,-1] += -theta*cfl*self.w                    \n",
    "        else:\n",
    "            print('Left boundary: no condition satisfaed!')\n",
    "        #\n",
    "        ## Right boundary\n",
    "        if self.boundary_type[1] == 'Dirichlet':\n",
    "            self.f[-1] += -(1-theta)*cfl*((self.boundary_values[-1]-self.u_previous[-1])*(1-self.w)+(self.u_previous[-1]-self.u_previous[-2])*self.w)\n",
    "            self.f[-1] += -theta*self.boundary_values[-1]*cfl*(1-self.w)        \n",
    "        elif self.boundary_type[1] == 'Neumann':\n",
    "            self.f[-1] += -(1-theta)*cfl*((self.dx*self.boundary_values[-1])*(1-self.w)+(self.u_previous[-1]-self.u_previous[-2])*self.w)\n",
    "            self.f[-1] += -theta*self.boundary_values[-1]*cfl*self.dx*(1-self.w) \n",
    "            self.A[-1,-1] += theta*cfl*(1-self.w)\n",
    "        elif self.boundary_type[1] == 'periodic':\n",
    "            self.f[-1] += -(1-theta)*cfl*((self.u_previous[0]-self.u_previous[-1])*(1-self.w)+(self.u_previous[-1]-self.u_previous[-2])*self.w)                \n",
    "            self.A[-1,0] += theta*cfl*(1-self.w)                                \n",
    "        else:\n",
    "            print('Right boundary: no condition satisfaed!')\n",
    "          \n",
    "        # Calculate u from Au=f\n",
    "        u = solve_linear(self.A, self.f)\n",
    "        \n",
    "        return u \n",
    "    \n",
    "            \n",
    "    def forward(self, dt, source_term=None):\n",
    "        \"\"\"\n",
    "        Solve the transport equation for one time step of size dt considering the source term\n",
    "        \n",
    "        \n",
    "        Parameters\n",
    "        ----------\n",
    "        dt: float\n",
    "            Time step size in seconds\n",
    "        source_term: list (or numpy array) of floats | default None\n",
    "            Source term (one value per block -> size N)\n",
    "        \n",
    "        Returns\n",
    "        ----------\n",
    "        u: numpy array of floats\n",
    "            resulted field after time step dt (one value per block -> size N)\n",
    "\n",
    "        \"\"\"          \n",
    "        source_term = np.array(self.N*[0]) if source_term == None else np.array(source_term)\n",
    "        \n",
    "        if self.time_integration == 'implicit':\n",
    "            self.timestep_count += 1\n",
    "            print(f'Time step {self.timestep_count} => dt = {dt}s, cfl = {self.velocity*dt/self.dx:.2f}, total time = {self.timestep_count*dt}s')\n",
    "           \n",
    "            u = self.solve_implicit(dt, source_term)\n",
    "            self.u_previous[:] = u\n",
    "            \n",
    "        elif self.time_integration == 'Crank-Nicolson':\n",
    "            self.timestep_count += 1\n",
    "            print(f'Time step {self.timestep_count} => dt = {dt}s, cfl = {self.velocity*dt/self.dx:.2f}, total time = {self.timestep_count*dt}s')\n",
    "          \n",
    "            u = self.solve_CrankNicolson(dt, source_term, theta=0.5)\n",
    "            self.u_previous[:] = u            \n",
    "        \n",
    "        elif self.time_integration == 'explicit':\n",
    "            self.timestep_count += 1\n",
    "            print(f'Time step {self.timestep_count} => dt = {dt}s, cfl = {self.velocity*dt/self.dx:.2f}{\"(***WARNING cfl>1)\" if self.velocity*dt/self.dx > 1.0 else \"\"}, total time = {self.timestep_count*dt}s')\n",
    "           \n",
    "            u = self.solve_explicit(dt, source_term)\n",
    "            self.u_previous[:] = u\n",
    "            \n",
    "        else:\n",
    "            print(f'Time integration {self.time_integration} NOT available!')\n",
    "            return None\n",
    "        \n",
    "        return u"
   ]
  },
  {
   "cell_type": "markdown",
   "id": "8f373f45",
   "metadata": {},
   "source": [
    "### Solve implicit"
   ]
  },
  {
   "cell_type": "code",
   "execution_count": 204,
   "id": "bc52d485",
   "metadata": {},
   "outputs": [],
   "source": [
    "transport = Transport(velocity = 0.1, \n",
    "            dx=0.1,\n",
    "            N=110, #110 \n",
    "            initial_condition = 40*[10.]+30*[0.]+40*[0.], #np.sin(np.linspace(0,2*np.pi,110,endpoint=False)), \n",
    "            #boundary_type = ['Dirichlet','Neumann'], \n",
    "            #boundary_type = ['Dirichlet','Dirichlet'], \n",
    "            boundary_type = ['Neumann','Neumann'], \n",
    "            #boundary_type = ['periodic','periodic'], \n",
    "            boundary_values = [0, 0],\n",
    "            time_integration='implicit',\n",
    "            space_discretization='upwind')"
   ]
  },
  {
   "cell_type": "code",
   "execution_count": 205,
   "id": "ada4a15d",
   "metadata": {},
   "outputs": [],
   "source": [
    "# Initialize u\n",
    "u=[]\n",
    "u.append(transport.u_previous.copy())  # Initial condition"
   ]
  },
  {
   "cell_type": "code",
   "execution_count": 206,
   "id": "cd5f3caf",
   "metadata": {
    "scrolled": false
   },
   "outputs": [
    {
     "name": "stdout",
     "output_type": "stream",
     "text": [
      "Time step 1 => dt = 5s, cfl = 5.00, total time = 5s\n",
      "Time step 2 => dt = 5s, cfl = 5.00, total time = 10s\n",
      "Time step 3 => dt = 5s, cfl = 5.00, total time = 15s\n",
      "Time step 4 => dt = 5s, cfl = 5.00, total time = 20s\n",
      "Time step 5 => dt = 5s, cfl = 5.00, total time = 25s\n",
      "0.00416111946105957\n"
     ]
    },
    {
     "data": {
      "image/png": "[encoded data removed]",
      "text/plain": [
       "<Figure size 432x288 with 1 Axes>"
      ]
     },
     "metadata": {
      "needs_background": "light"
     },
     "output_type": "display_data"
    }
   ],
   "source": [
    "start = time.time()\n",
    "for _ in range(5):\n",
    "    u.append(transport.forward(dt=5, # seconds\n",
    "                               #source_term=1*[0.]+9*[0.]+1*[0.]\n",
    "                               )\n",
    "            )\n",
    "print(time.time()-start)\n",
    "plt.plot(np.transpose(u));\n",
    "u_imp = u"
   ]
  },
  {
   "cell_type": "code",
   "execution_count": 148,
   "id": "9c80f9ef",
   "metadata": {},
   "outputs": [
    {
     "name": "stdout",
     "output_type": "stream",
     "text": [
      "A = \n",
      " [[ 1.  0.  0. ...  0.  0.  0.]\n",
      " [-5.  6.  0. ...  0.  0.  0.]\n",
      " [ 0. -5.  6. ...  0.  0.  0.]\n",
      " ...\n",
      " [ 0.  0.  0. ...  6.  0.  0.]\n",
      " [ 0.  0.  0. ... -5.  6.  0.]\n",
      " [ 0.  0.  0. ...  0. -5.  6.]]\n",
      "\n",
      "u = \n",
      " [10.         10.         10.         10.         10.         10.\n",
      " 10.         10.         10.         10.         10.         10.\n",
      " 10.         10.         10.         10.         10.         10.\n",
      " 10.         10.         10.         10.         10.         10.\n",
      " 10.         10.         10.         10.         10.         10.\n",
      " 10.         10.         10.         10.         10.         10.\n",
      " 10.         10.         10.         10.          9.99871399  9.99335562\n",
      "  9.97995971  9.95391208  9.91049938  9.84538033  9.75493721  9.63649978\n",
      "  9.48845299  9.31024853  9.10234333  8.86608741  8.60358084  8.31751598\n",
      "  8.01101792  7.68749219  7.35048622  7.00356831  6.650226    6.29378419\n",
      "  5.93734238  5.58372947  5.23547434  4.89478997  4.56356905  4.24338884\n",
      "  3.93552324  3.64096048  3.36042452  3.09439904  2.84315275  2.60676511\n",
      "  2.3851517   2.17808867  1.98523584  1.80615822  1.64034561  1.48723035\n",
      "  1.34620315  1.21662687  1.09784861  0.98920996  0.89005564  0.79974066\n",
      "  0.71763613  0.64313387  0.57564994  0.51462724  0.4595373   0.4098814\n",
      "  0.36519109  0.32502823  0.28898464  0.25668142  0.22776805  0.20192124\n",
      "  0.17884374  0.15826292  0.13992944  0.12361574  0.10911468  0.09623806\n",
      "  0.08481524  0.07469185  0.06572843  0.05779925  0.05079114  0.04460238\n",
      "  0.03914171  0.03432736]\n",
      "\n",
      "f = \n",
      " [10.         10.         10.         10.         10.         10.\n",
      " 10.         10.         10.         10.         10.         10.\n",
      " 10.         10.         10.         10.         10.         10.\n",
      " 10.         10.         10.         10.         10.         10.\n",
      " 10.         10.         10.         10.         10.         10.\n",
      " 10.         10.         10.         10.         10.         10.\n",
      " 10.         10.         10.         10.          9.99228395  9.96656379\n",
      "  9.91298011  9.82367398  9.69343588  9.51978508  9.30272157  9.04431264\n",
      "  8.74821907  8.41922622  8.06281729  7.68480783  7.29104797  6.8871917\n",
      "  6.47852762  6.06986354  5.66545638  5.26897877  4.88351442  4.51157515\n",
      "  4.15513334  3.81566495  3.49419867  3.19136812  2.90746448  2.64248774\n",
      "  2.39619527  2.16814668  1.95774471  1.76427163  1.58692131  1.42482693\n",
      "  1.27708466  1.1427735   1.02097172  0.9107701   0.81128253  0.72165409\n",
      "  0.64106712  0.56874547  0.50395733  0.44601672  0.39428403  0.34816574\n",
      "  0.30711348  0.27062257  0.23823029  0.20951372  0.1840876   0.16160191\n",
      "  0.14173955  0.12421394  0.10876668  0.09516533  0.08320117  0.07268722\n",
      "  0.06345622  0.05535885  0.04826201  0.04204727  0.03660937  0.03185493\n",
      "  0.02770118  0.02407489  0.02091133  0.01815335  0.01575057  0.0136586\n",
      "  0.01183837  0.01025557]\n",
      "\n",
      "Determinant = 6.583946478771821e+84\n",
      "Error =  1.2434497875801753e-14\n"
     ]
    },
    {
     "data": {
      "text/plain": [
       "[<matplotlib.lines.Line2D at 0x7fdde81a2850>]"
      ]
     },
     "execution_count": 148,
     "metadata": {},
     "output_type": "execute_result"
    },
    {
     "data": {
      "image/png": "[encoded data removed]",
      "text/plain": [
       "<Figure size 432x288 with 1 Axes>"
      ]
     },
     "metadata": {
      "needs_background": "light"
     },
     "output_type": "display_data"
    }
   ],
   "source": [
    "print('A = \\n', transport.A)\n",
    "print()\n",
    "print('u = \\n', u[-1])\n",
    "print()\n",
    "print('f = \\n', transport.f)\n",
    "print()\n",
    "print('Determinant =', np.linalg.det(transport.A))\n",
    "print('Error = ', np.max(abs(transport.A.dot(u[-1])-transport.f)))\n",
    "\n",
    "plt.plot(transport.A.dot(u[-1]))\n",
    "plt.plot(transport.f, '--')"
   ]
  },
  {
   "cell_type": "code",
   "execution_count": 149,
   "id": "17570cb5",
   "metadata": {},
   "outputs": [
    {
     "name": "stdout",
     "output_type": "stream",
     "text": [
      "[10.         10.         10.         10.         10.         10.\n",
      " 10.         10.         10.         10.         10.         10.\n",
      " 10.         10.         10.         10.         10.         10.\n",
      " 10.         10.         10.         10.         10.         10.\n",
      " 10.         10.         10.         10.         10.         10.\n",
      " 10.         10.         10.         10.         10.         10.\n",
      " 10.         10.         10.         10.          9.99871399  9.99335562\n",
      "  9.97995971  9.95391208  9.91049938  9.84538033  9.75493721  9.63649978\n",
      "  9.48845299  9.31024853  9.10234333  8.86608741  8.60358084  8.31751598\n",
      "  8.01101792  7.68749219  7.35048622  7.00356831  6.650226    6.29378419\n",
      "  5.93734238  5.58372947  5.23547434  4.89478997  4.56356905  4.24338884\n",
      "  3.93552324  3.64096048  3.36042452  3.09439904  2.84315275  2.60676511\n",
      "  2.3851517   2.17808867  1.98523584  1.80615822  1.64034561  1.48723035\n",
      "  1.34620315  1.21662687  1.09784861  0.98920996  0.89005564  0.79974066\n",
      "  0.71763613  0.64313387  0.57564994  0.51462724  0.4595373   0.4098814\n",
      "  0.36519109  0.32502823  0.28898464  0.25668142  0.22776805  0.20192124\n",
      "  0.17884374  0.15826292  0.13992944  0.12361574  0.10911468  0.09623806\n",
      "  0.08481524  0.07469185  0.06572843  0.05779925  0.05079114  0.04460238\n",
      "  0.03914171  0.03432736]\n"
     ]
    },
    {
     "data": {
      "text/plain": [
       "[<matplotlib.lines.Line2D at 0x7fdde80c1460>]"
      ]
     },
     "execution_count": 149,
     "metadata": {},
     "output_type": "execute_result"
    },
    {
     "data": {
      "image/png": "[encoded data removed]",
      "text/plain": [
       "<Figure size 1440x360 with 2 Axes>"
      ]
     },
     "metadata": {
      "needs_background": "light"
     },
     "output_type": "display_data"
    }
   ],
   "source": [
    "print(u_imp[-1])\n",
    "fig, axes = plt.subplots(1,2, figsize=(20,5))\n",
    "axes[0].plot(np.array(u_imp)[:,5])\n",
    "axes[1].plot(u_imp[-1])"
   ]
  },
  {
   "cell_type": "markdown",
   "id": "f3009672",
   "metadata": {},
   "source": [
    "### Solve explicit"
   ]
  },
  {
   "cell_type": "code",
   "execution_count": 150,
   "id": "49079fcf",
   "metadata": {},
   "outputs": [],
   "source": [
    "transport = Transport(velocity = 0.1, \n",
    "            dx=0.1,\n",
    "            N=110, #110\n",
    "            initial_condition = 40*[10.]+30*[0.]+40*[0.], #np.sin(np.linspace(0,2*np.pi,110,endpoint=False)),\n",
    "            #boundary_type = ['Dirichlet','Neumann'], \n",
    "            #boundary_type = ['Dirichlet','Dirichlet'], \n",
    "            boundary_type = ['Neumann','Neumann'], \n",
    "            #boundary_type = ['periodic','periodic'], \n",
    "            boundary_values = [0, 0],\n",
    "            time_integration='explicit',\n",
    "            space_discretization='upwind')"
   ]
  },
  {
   "cell_type": "code",
   "execution_count": 151,
   "id": "9c947a84",
   "metadata": {},
   "outputs": [
    {
     "name": "stdout",
     "output_type": "stream",
     "text": [
      "Greatest time step explicit = 1.00s\n"
     ]
    }
   ],
   "source": [
    "print(f'Greatest time step explicit = {transport.dx/transport.velocity:.2f}s')"
   ]
  },
  {
   "cell_type": "code",
   "execution_count": 152,
   "id": "8f48f47e",
   "metadata": {},
   "outputs": [],
   "source": [
    "# Initialize u\n",
    "u=[]\n",
    "u.append(transport.u_previous.copy())  # Initial condition"
   ]
  },
  {
   "cell_type": "code",
   "execution_count": 153,
   "id": "876b8f31",
   "metadata": {
    "scrolled": false
   },
   "outputs": [
    {
     "name": "stdout",
     "output_type": "stream",
     "text": [
      "Time step 1 => dt = 5s, cfl = 5.00(***WARNING cfl>1), total time = 5s\n",
      "Time step 2 => dt = 5s, cfl = 5.00(***WARNING cfl>1), total time = 10s\n",
      "Time step 3 => dt = 5s, cfl = 5.00(***WARNING cfl>1), total time = 15s\n",
      "Time step 4 => dt = 5s, cfl = 5.00(***WARNING cfl>1), total time = 20s\n",
      "Time step 5 => dt = 5s, cfl = 5.00(***WARNING cfl>1), total time = 25s\n",
      "0.0021016597747802734\n"
     ]
    },
    {
     "data": {
      "image/png": "[encoded data removed]",
      "text/plain": [
       "<Figure size 432x288 with 1 Axes>"
      ]
     },
     "metadata": {
      "needs_background": "light"
     },
     "output_type": "display_data"
    }
   ],
   "source": [
    "start = time.time()\n",
    "for _ in range(5):\n",
    "    u.append(transport.forward(dt=5, # seconds\n",
    "                               #source_term=4*[0.]+3*[0.]+4*[0.]\n",
    "                               )\n",
    "            )\n",
    "print(time.time()-start)\n",
    "plt.plot(np.transpose(u));\n",
    "u_exp = u"
   ]
  },
  {
   "cell_type": "code",
   "execution_count": 154,
   "id": "fca21ff5",
   "metadata": {
    "scrolled": false
   },
   "outputs": [
    {
     "name": "stdout",
     "output_type": "stream",
     "text": [
      "[ 1.0000e+01  1.0000e+01  1.0000e+01  1.0000e+01  1.0000e+01  1.0000e+01\n",
      "  1.0000e+01  1.0000e+01  1.0000e+01  1.0000e+01  1.0000e+01  1.0000e+01\n",
      "  1.0000e+01  1.0000e+01  1.0000e+01  1.0000e+01  1.0000e+01  1.0000e+01\n",
      "  1.0000e+01  1.0000e+01  1.0000e+01  1.0000e+01  1.0000e+01  1.0000e+01\n",
      "  1.0000e+01  1.0000e+01  1.0000e+01  1.0000e+01  1.0000e+01  1.0000e+01\n",
      "  1.0000e+01  1.0000e+01  1.0000e+01  1.0000e+01  1.0000e+01  1.0000e+01\n",
      "  1.0000e+01  1.0000e+01  1.0000e+01  1.0000e+01  1.0250e+04 -5.3750e+04\n",
      "  1.0625e+05 -9.3750e+04  3.1250e+04  0.0000e+00  0.0000e+00  0.0000e+00\n",
      "  0.0000e+00  0.0000e+00  0.0000e+00  0.0000e+00  0.0000e+00  0.0000e+00\n",
      "  0.0000e+00  0.0000e+00  0.0000e+00  0.0000e+00  0.0000e+00  0.0000e+00\n",
      "  0.0000e+00  0.0000e+00  0.0000e+00  0.0000e+00  0.0000e+00  0.0000e+00\n",
      "  0.0000e+00  0.0000e+00  0.0000e+00  0.0000e+00  0.0000e+00  0.0000e+00\n",
      "  0.0000e+00  0.0000e+00  0.0000e+00  0.0000e+00  0.0000e+00  0.0000e+00\n",
      "  0.0000e+00  0.0000e+00  0.0000e+00  0.0000e+00  0.0000e+00  0.0000e+00\n",
      "  0.0000e+00  0.0000e+00  0.0000e+00  0.0000e+00  0.0000e+00  0.0000e+00\n",
      "  0.0000e+00  0.0000e+00  0.0000e+00  0.0000e+00  0.0000e+00  0.0000e+00\n",
      "  0.0000e+00  0.0000e+00  0.0000e+00  0.0000e+00  0.0000e+00  0.0000e+00\n",
      "  0.0000e+00  0.0000e+00  0.0000e+00  0.0000e+00  0.0000e+00  0.0000e+00\n",
      "  0.0000e+00  0.0000e+00]\n",
      "[10.         10.         10.         10.         10.         10.\n",
      " 10.         10.         10.         10.         10.         10.\n",
      " 10.         10.         10.         10.         10.         10.\n",
      " 10.         10.         10.         10.         10.         10.\n",
      " 10.         10.         10.         10.         10.         10.\n",
      " 10.         10.         10.         10.         10.         10.\n",
      " 10.         10.         10.         10.          9.99871399  9.99335562\n",
      "  9.97995971  9.95391208  9.91049938  9.84538033  9.75493721  9.63649978\n",
      "  9.48845299  9.31024853  9.10234333  8.86608741  8.60358084  8.31751598\n",
      "  8.01101792  7.68749219  7.35048622  7.00356831  6.650226    6.29378419\n",
      "  5.93734238  5.58372947  5.23547434  4.89478997  4.56356905  4.24338884\n",
      "  3.93552324  3.64096048  3.36042452  3.09439904  2.84315275  2.60676511\n",
      "  2.3851517   2.17808867  1.98523584  1.80615822  1.64034561  1.48723035\n",
      "  1.34620315  1.21662687  1.09784861  0.98920996  0.89005564  0.79974066\n",
      "  0.71763613  0.64313387  0.57564994  0.51462724  0.4595373   0.4098814\n",
      "  0.36519109  0.32502823  0.28898464  0.25668142  0.22776805  0.20192124\n",
      "  0.17884374  0.15826292  0.13992944  0.12361574  0.10911468  0.09623806\n",
      "  0.08481524  0.07469185  0.06572843  0.05779925  0.05079114  0.04460238\n",
      "  0.03914171  0.03432736]\n"
     ]
    },
    {
     "data": {
      "text/plain": [
       "<matplotlib.legend.Legend at 0x7fddc47b9f40>"
      ]
     },
     "execution_count": 154,
     "metadata": {},
     "output_type": "execute_result"
    },
    {
     "data": {
      "image/png": "[encoded data removed]",
      "text/plain": [
       "<Figure size 1440x360 with 2 Axes>"
      ]
     },
     "metadata": {
      "needs_background": "light"
     },
     "output_type": "display_data"
    }
   ],
   "source": [
    "print(u_exp[-1])\n",
    "print(u_imp[-1])\n",
    "fig, axes = plt.subplots(1,2, figsize=(20,5))\n",
    "axes[0].plot(np.array(u_exp)[:,5])\n",
    "axes[0].plot(np.array(u_imp)[:,5],'--')\n",
    "axes[0].legend(['explicit','implicit'])\n",
    "axes[1].plot(u_exp[-1])\n",
    "axes[1].plot(u_imp[-1],'--')\n",
    "axes[1].legend(['explicit','implicit'])"
   ]
  },
  {
   "cell_type": "markdown",
   "id": "487f5a68",
   "metadata": {},
   "source": [
    "### Solve Crank-Nicolson"
   ]
  },
  {
   "cell_type": "code",
   "execution_count": 189,
   "id": "b73e3454",
   "metadata": {},
   "outputs": [],
   "source": [
    "transport = Transport(velocity = 0.1, \n",
    "            dx=0.1,\n",
    "            N=110, #110 \n",
    "            initial_condition = 40*[10.]+30*[0.]+40*[0.], #np.sin(np.linspace(0,2*np.pi,110,endpoint=False)), \n",
    "            #boundary_type = ['Dirichlet','Neumann'], \n",
    "            #boundary_type = ['Dirichlet','Dirichlet'], \n",
    "            boundary_type = ['Neumann','Neumann'], \n",
    "            #boundary_type = ['periodic','periodic'], \n",
    "            boundary_values = [0, 0],\n",
    "            time_integration='Crank-Nicolson',\n",
    "            space_discretization='upwind')"
   ]
  },
  {
   "cell_type": "code",
   "execution_count": 190,
   "id": "8c421605",
   "metadata": {},
   "outputs": [],
   "source": [
    "# Initialize u\n",
    "u=[]\n",
    "u.append(transport.u_previous.copy())  # Initial condition"
   ]
  },
  {
   "cell_type": "code",
   "execution_count": 191,
   "id": "4cb04059",
   "metadata": {},
   "outputs": [
    {
     "name": "stdout",
     "output_type": "stream",
     "text": [
      "Time step 1 => dt = 5s, cfl = 5.00, total time = 5s\n",
      "***WARNING Crank-Nicolson in time may generate oscilations!\n",
      "Time step 2 => dt = 5s, cfl = 5.00, total time = 10s\n",
      "***WARNING Crank-Nicolson in time may generate oscilations!\n",
      "Time step 3 => dt = 5s, cfl = 5.00, total time = 15s\n",
      "***WARNING Crank-Nicolson in time may generate oscilations!\n",
      "Time step 4 => dt = 5s, cfl = 5.00, total time = 20s\n",
      "***WARNING Crank-Nicolson in time may generate oscilations!\n",
      "Time step 5 => dt = 5s, cfl = 5.00, total time = 25s\n",
      "***WARNING Crank-Nicolson in time may generate oscilations!\n",
      "0.0062160491943359375\n"
     ]
    },
    {
     "data": {
      "image/png": "[encoded data removed]",
      "text/plain": [
       "<Figure size 432x288 with 1 Axes>"
      ]
     },
     "metadata": {
      "needs_background": "light"
     },
     "output_type": "display_data"
    }
   ],
   "source": [
    "start = time.time()\n",
    "for _ in range(5):\n",
    "    u.append(transport.forward(dt=5, # seconds\n",
    "                               #source_term=1*[0.]+9*[0.]+1*[0.]\n",
    "                               )\n",
    "            )\n",
    "print(time.time()-start)\n",
    "plt.plot(np.transpose(u));\n",
    "u_cn = u"
   ]
  },
  {
   "cell_type": "code",
   "execution_count": 158,
   "id": "134ce7f5",
   "metadata": {},
   "outputs": [
    {
     "name": "stdout",
     "output_type": "stream",
     "text": [
      "A = \n",
      " [[ 1.   0.   0.  ...  0.   0.   0. ]\n",
      " [-2.5  3.5  0.  ...  0.   0.   0. ]\n",
      " [ 0.  -2.5  3.5 ...  0.   0.   0. ]\n",
      " ...\n",
      " [ 0.   0.   0.  ...  3.5  0.   0. ]\n",
      " [ 0.   0.   0.  ... -2.5  3.5  0. ]\n",
      " [ 0.   0.   0.  ...  0.  -2.5  3.5]]\n",
      "\n",
      "u = \n",
      " [1.00000000e+01 1.00000000e+01 1.00000000e+01 1.00000000e+01\n",
      " 1.00000000e+01 1.00000000e+01 1.00000000e+01 1.00000000e+01\n",
      " 1.00000000e+01 1.00000000e+01 1.00000000e+01 1.00000000e+01\n",
      " 1.00000000e+01 1.00000000e+01 1.00000000e+01 1.00000000e+01\n",
      " 1.00000000e+01 1.00000000e+01 1.00000000e+01 1.00000000e+01\n",
      " 1.00000000e+01 1.00000000e+01 1.00000000e+01 1.00000000e+01\n",
      " 1.00000000e+01 1.00000000e+01 1.00000000e+01 1.00000000e+01\n",
      " 1.00000000e+01 1.00000000e+01 1.00000000e+01 1.00000000e+01\n",
      " 1.00000000e+01 1.00000000e+01 1.00000000e+01 1.00000000e+01\n",
      " 1.00000000e+01 1.00000000e+01 1.00000000e+01 1.00000000e+01\n",
      " 1.01445826e+01 9.45609397e+00 1.02757233e+01 1.05489331e+01\n",
      " 1.02236834e+01 9.71877186e+00 9.37582145e+00 9.33856878e+00\n",
      " 9.58933896e+00 1.00218801e+01 1.05039532e+01 1.09174056e+01\n",
      " 1.11774663e+01 1.12372865e+01 1.10838271e+01 1.07298042e+01\n",
      " 1.02047920e+01 9.54722906e+00 8.79810921e+00 7.99652616e+00\n",
      " 7.17690316e+00 6.36758627e+00 5.59044438e+00 4.86114725e+00\n",
      " 4.18984973e+00 3.58207559e+00 3.03965480e+00 2.56161934e+00\n",
      " 2.14500231e+00 1.78551429e+00 1.47809063e+00 1.21731597e+00\n",
      " 9.97739306e-01 8.14096255e-01 6.61455643e-01 5.35306715e-01\n",
      " 4.31601410e-01 3.46763950e-01 2.77677758e-01 2.21657618e-01\n",
      " 1.76413121e-01 1.40007888e-01 1.10817741e-01 8.74900228e-02\n",
      " 6.89054263e-02 5.41431446e-02 4.24497188e-02 3.32116540e-02\n",
      " 2.59316877e-02 2.02084647e-02 1.57193081e-02 1.22057435e-02\n",
      " 9.46143267e-03 7.32218531e-03 5.65774381e-03 4.36506403e-03\n",
      " 3.36284856e-03 2.58712002e-03 1.98765217e-03 1.52510430e-03\n",
      " 1.16872887e-03 8.94544147e-04 6.83882244e-04 5.22239006e-04\n",
      " 3.98365548e-04 3.03552642e-04 2.31068425e-04 1.75717664e-04\n",
      " 1.33497065e-04 1.01326291e-04]\n",
      "\n",
      "f = \n",
      " [1.00000000e+01 1.00000000e+01 1.00000000e+01 1.00000000e+01\n",
      " 1.00000000e+01 1.00000000e+01 1.00000000e+01 1.00000000e+01\n",
      " 1.00000000e+01 1.00000000e+01 1.00000000e+01 1.00000000e+01\n",
      " 1.00000000e+01 1.00000000e+01 1.00000000e+01 1.00000000e+01\n",
      " 1.00000000e+01 1.00000000e+01 1.00000000e+01 1.00000000e+01\n",
      " 1.00000000e+01 1.00000000e+01 1.00000000e+01 1.00000000e+01\n",
      " 1.00000000e+01 1.00000000e+01 1.00000000e+01 1.00000000e+01\n",
      " 1.00000000e+01 1.00000000e+01 1.00000000e+01 1.00000000e+01\n",
      " 1.00000000e+01 1.00000000e+01 1.00000000e+01 1.00000000e+01\n",
      " 1.00000000e+01 1.00000000e+01 1.00000000e+01 1.00000000e+01\n",
      " 1.05060392e+01 7.73487237e+00 1.23247966e+01 1.12319575e+01\n",
      " 9.41055901e+00 8.45649312e+00 8.51844545e+00 9.24543709e+00\n",
      " 1.02162644e+01 1.11032329e+01 1.17091361e+01 1.19510366e+01\n",
      " 1.18276180e+01 1.13868372e+01 1.07001786e+01 9.84474692e+00\n",
      " 8.89226142e+00 7.90332175e+00 6.92530959e+00 5.99256854e+00\n",
      " 5.12784566e+00 4.34429403e+00 3.64758967e+00 3.03790442e+00\n",
      " 2.51160592e+00 2.06264023e+00 1.68360283e+00 1.36653069e+00\n",
      " 1.10345973e+00 8.86794246e-01 7.09531494e-01 5.65379314e-01\n",
      " 4.48797642e-01 3.54988627e-01 2.79854113e-01 2.19934396e-01\n",
      " 1.72338148e-01 1.34670299e-01 1.04962278e-01 8.16072671e-02\n",
      " 6.33018805e-02 4.89948031e-02 3.78423734e-02 2.91707284e-02\n",
      " 2.24439348e-02 1.72374405e-02 1.32161542e-02 1.01164920e-02\n",
      " 7.73177182e-03 5.90040721e-03 4.49641662e-03 3.42183211e-03\n",
      " 2.60065554e-03 1.97406691e-03 1.49664006e-03 1.13336458e-03\n",
      " 8.57309891e-04 6.47798654e-04 4.88982536e-04 3.68734629e-04\n",
      " 2.77790306e-04 2.09082336e-04 1.57227487e-04 1.18130911e-04\n",
      " 8.86819050e-05 6.65203745e-05 4.98578822e-05 3.73407612e-05\n",
      " 2.79455675e-05 2.08993554e-05]\n",
      "\n",
      "Determinant = 2.0110220578877166e+59\n",
      "Error =  1.0658141036401503e-14\n"
     ]
    },
    {
     "data": {
      "text/plain": [
       "[<matplotlib.lines.Line2D at 0x7fdde8276160>]"
      ]
     },
     "execution_count": 158,
     "metadata": {},
     "output_type": "execute_result"
    },
    {
     "data": {
      "image/png": "[encoded data removed]",
      "text/plain": [
       "<Figure size 432x288 with 1 Axes>"
      ]
     },
     "metadata": {
      "needs_background": "light"
     },
     "output_type": "display_data"
    }
   ],
   "source": [
    "print('A = \\n', transport.A)\n",
    "print()\n",
    "print('u = \\n', u[-1])\n",
    "print()\n",
    "print('f = \\n', transport.f)\n",
    "print()\n",
    "print('Determinant =', np.linalg.det(transport.A))\n",
    "print('Error = ', np.max(abs(transport.A.dot(u[-1])-transport.f)))\n",
    "\n",
    "plt.plot(transport.A.dot(u[-1]))\n",
    "plt.plot(transport.f, '--')"
   ]
  },
  {
   "cell_type": "code",
   "execution_count": 159,
   "id": "0f058927",
   "metadata": {
    "scrolled": false
   },
   "outputs": [
    {
     "name": "stdout",
     "output_type": "stream",
     "text": [
      "[ 1.0000e+01  1.0000e+01  1.0000e+01  1.0000e+01  1.0000e+01  1.0000e+01\n",
      "  1.0000e+01  1.0000e+01  1.0000e+01  1.0000e+01  1.0000e+01  1.0000e+01\n",
      "  1.0000e+01  1.0000e+01  1.0000e+01  1.0000e+01  1.0000e+01  1.0000e+01\n",
      "  1.0000e+01  1.0000e+01  1.0000e+01  1.0000e+01  1.0000e+01  1.0000e+01\n",
      "  1.0000e+01  1.0000e+01  1.0000e+01  1.0000e+01  1.0000e+01  1.0000e+01\n",
      "  1.0000e+01  1.0000e+01  1.0000e+01  1.0000e+01  1.0000e+01  1.0000e+01\n",
      "  1.0000e+01  1.0000e+01  1.0000e+01  1.0000e+01  1.0250e+04 -5.3750e+04\n",
      "  1.0625e+05 -9.3750e+04  3.1250e+04  0.0000e+00  0.0000e+00  0.0000e+00\n",
      "  0.0000e+00  0.0000e+00  0.0000e+00  0.0000e+00  0.0000e+00  0.0000e+00\n",
      "  0.0000e+00  0.0000e+00  0.0000e+00  0.0000e+00  0.0000e+00  0.0000e+00\n",
      "  0.0000e+00  0.0000e+00  0.0000e+00  0.0000e+00  0.0000e+00  0.0000e+00\n",
      "  0.0000e+00  0.0000e+00  0.0000e+00  0.0000e+00  0.0000e+00  0.0000e+00\n",
      "  0.0000e+00  0.0000e+00  0.0000e+00  0.0000e+00  0.0000e+00  0.0000e+00\n",
      "  0.0000e+00  0.0000e+00  0.0000e+00  0.0000e+00  0.0000e+00  0.0000e+00\n",
      "  0.0000e+00  0.0000e+00  0.0000e+00  0.0000e+00  0.0000e+00  0.0000e+00\n",
      "  0.0000e+00  0.0000e+00  0.0000e+00  0.0000e+00  0.0000e+00  0.0000e+00\n",
      "  0.0000e+00  0.0000e+00  0.0000e+00  0.0000e+00  0.0000e+00  0.0000e+00\n",
      "  0.0000e+00  0.0000e+00  0.0000e+00  0.0000e+00  0.0000e+00  0.0000e+00\n",
      "  0.0000e+00  0.0000e+00]\n",
      "[10.         10.         10.         10.         10.         10.\n",
      " 10.         10.         10.         10.         10.         10.\n",
      " 10.         10.         10.         10.         10.         10.\n",
      " 10.         10.         10.         10.         10.         10.\n",
      " 10.         10.         10.         10.         10.         10.\n",
      " 10.         10.         10.         10.         10.         10.\n",
      " 10.         10.         10.         10.          9.99871399  9.99335562\n",
      "  9.97995971  9.95391208  9.91049938  9.84538033  9.75493721  9.63649978\n",
      "  9.48845299  9.31024853  9.10234333  8.86608741  8.60358084  8.31751598\n",
      "  8.01101792  7.68749219  7.35048622  7.00356831  6.650226    6.29378419\n",
      "  5.93734238  5.58372947  5.23547434  4.89478997  4.56356905  4.24338884\n",
      "  3.93552324  3.64096048  3.36042452  3.09439904  2.84315275  2.60676511\n",
      "  2.3851517   2.17808867  1.98523584  1.80615822  1.64034561  1.48723035\n",
      "  1.34620315  1.21662687  1.09784861  0.98920996  0.89005564  0.79974066\n",
      "  0.71763613  0.64313387  0.57564994  0.51462724  0.4595373   0.4098814\n",
      "  0.36519109  0.32502823  0.28898464  0.25668142  0.22776805  0.20192124\n",
      "  0.17884374  0.15826292  0.13992944  0.12361574  0.10911468  0.09623806\n",
      "  0.08481524  0.07469185  0.06572843  0.05779925  0.05079114  0.04460238\n",
      "  0.03914171  0.03432736]\n",
      "[1.00000000e+01 1.00000000e+01 1.00000000e+01 1.00000000e+01\n",
      " 1.00000000e+01 1.00000000e+01 1.00000000e+01 1.00000000e+01\n",
      " 1.00000000e+01 1.00000000e+01 1.00000000e+01 1.00000000e+01\n",
      " 1.00000000e+01 1.00000000e+01 1.00000000e+01 1.00000000e+01\n",
      " 1.00000000e+01 1.00000000e+01 1.00000000e+01 1.00000000e+01\n",
      " 1.00000000e+01 1.00000000e+01 1.00000000e+01 1.00000000e+01\n",
      " 1.00000000e+01 1.00000000e+01 1.00000000e+01 1.00000000e+01\n",
      " 1.00000000e+01 1.00000000e+01 1.00000000e+01 1.00000000e+01\n",
      " 1.00000000e+01 1.00000000e+01 1.00000000e+01 1.00000000e+01\n",
      " 1.00000000e+01 1.00000000e+01 1.00000000e+01 1.00000000e+01\n",
      " 1.01445826e+01 9.45609397e+00 1.02757233e+01 1.05489331e+01\n",
      " 1.02236834e+01 9.71877186e+00 9.37582145e+00 9.33856878e+00\n",
      " 9.58933896e+00 1.00218801e+01 1.05039532e+01 1.09174056e+01\n",
      " 1.11774663e+01 1.12372865e+01 1.10838271e+01 1.07298042e+01\n",
      " 1.02047920e+01 9.54722906e+00 8.79810921e+00 7.99652616e+00\n",
      " 7.17690316e+00 6.36758627e+00 5.59044438e+00 4.86114725e+00\n",
      " 4.18984973e+00 3.58207559e+00 3.03965480e+00 2.56161934e+00\n",
      " 2.14500231e+00 1.78551429e+00 1.47809063e+00 1.21731597e+00\n",
      " 9.97739306e-01 8.14096255e-01 6.61455643e-01 5.35306715e-01\n",
      " 4.31601410e-01 3.46763950e-01 2.77677758e-01 2.21657618e-01\n",
      " 1.76413121e-01 1.40007888e-01 1.10817741e-01 8.74900228e-02\n",
      " 6.89054263e-02 5.41431446e-02 4.24497188e-02 3.32116540e-02\n",
      " 2.59316877e-02 2.02084647e-02 1.57193081e-02 1.22057435e-02\n",
      " 9.46143267e-03 7.32218531e-03 5.65774381e-03 4.36506403e-03\n",
      " 3.36284856e-03 2.58712002e-03 1.98765217e-03 1.52510430e-03\n",
      " 1.16872887e-03 8.94544147e-04 6.83882244e-04 5.22239006e-04\n",
      " 3.98365548e-04 3.03552642e-04 2.31068425e-04 1.75717664e-04\n",
      " 1.33497065e-04 1.01326291e-04]\n"
     ]
    },
    {
     "data": {
      "text/plain": [
       "<matplotlib.legend.Legend at 0x7fde05581e50>"
      ]
     },
     "execution_count": 159,
     "metadata": {},
     "output_type": "execute_result"
    },
    {
     "data": {
      "image/png": "[encoded data removed]",
      "text/plain": [
       "<Figure size 1440x360 with 2 Axes>"
      ]
     },
     "metadata": {
      "needs_background": "light"
     },
     "output_type": "display_data"
    }
   ],
   "source": [
    "print(u_exp[-1])\n",
    "print(u_imp[-1])\n",
    "print(u_cn[-1])\n",
    "fig, axes = plt.subplots(1,2, figsize=(20,5))\n",
    "axes[0].plot(np.array(u_exp)[:,5])\n",
    "axes[0].plot(np.array(u_imp)[:,5],'--')\n",
    "axes[0].plot(np.array(u_cn)[:,5],'-.')\n",
    "axes[0].legend(['explicit','implicit','Crank-Nicolson'])\n",
    "#axes[1].plot(u_exp[-1])\n",
    "axes[1].plot(u_imp[-1],'--')\n",
    "axes[1].plot(u_cn[-1],'-.')\n",
    "axes[1].legend(['explicit','implicit','Crank-Nicolson'])"
   ]
  },
  {
   "cell_type": "code",
   "execution_count": null,
   "id": "4dd10a36",
   "metadata": {},
   "outputs": [],
   "source": []
  }
 ],
 "metadata": {
  "kernelspec": {
   "display_name": "Python 3 (ipykernel)",
   "language": "python",
   "name": "python3"
  },
  "language_info": {
   "codemirror_mode": {
    "name": "ipython",
    "version": 3
   },
   "file_extension": ".py",
   "mimetype": "text/x-python",
   "name": "python",
   "nbconvert_exporter": "python",
   "pygments_lexer": "ipython3",
   "version": "3.9.7"
  }
 },
 "nbformat": 4,
 "nbformat_minor": 5
}
